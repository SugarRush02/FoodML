{
 "cells": [
  {
   "cell_type": "code",
   "execution_count": 1,
   "metadata": {},
   "outputs": [],
   "source": [
    "import pandas as pd\n",
    "import numpy as np\n",
    "import matplotlib.pyplot as plt"
   ]
  },
  {
   "cell_type": "code",
   "execution_count": 16,
   "metadata": {},
   "outputs": [
    {
     "data": {
      "text/plain": [
       "'Menu Category,Menu Items,Per Serve Size,Energy (kCal),Protein (g),Total fat (g),Sat Fat (g),Trans fat (g),Cholesterols (mg),Total carbohydrate (g),Total Sugars (g),Added Sugars (g),Sodium (mg),Hunger Level\\r\\nRegular Menu,McVeggie™ Burger,168 g,402.05,10.24,13.83,5.34,0.16,2.49,56.54,7.9,4.49,706.13,0\\r\\nRegular Menu,McAloo Tikki Burger®,146 g,339.52,8.5,11.31,4.27,0.2,1.47,50.27,7.05,4.07,545.34,0\\r\\nRegular Menu,McSpicy Paneer Burger,199 g,652.76,20.29,39.45,17.12,0.18,21.85,52.33,8.35,5.27,1074.58,0\\r\\nRegular Menu,Spicy Paneer Wrap,250 g,674.68,20.96,39.1,19.73,0.26,40.93,59.27,3.5,1.08,1087.46,0\\r\\nRegular Menu,American Veg Burger,177 g,512.17,15.3,23.45,10.51,0.17,25.24,56.96,7.85,4.76,1051.24,0\\r\\nRegular Menu,Veg Maharaja Mac,306 g,832.67,24.17,37.94,16.83,0.28,36.19,93.84,11.52,6.92,1529.22,0\\r\\nRegular Menu,Green Chilli Aloo Naan,132 g,356.09,7.91,15.08,6.11,0.24,9.45,46.36,4.53,1.15,579.6,0\\r\\nRegular Menu,Pizza Puff,87 g,228.21,5.45,11.44,5.72,0.09,5.17,24.79,2.73,0.35,390.74,1\\r\\nRegular Menu,Mc chicken Burger,173 g,400.8,15.66,15.7,5.47,0.16,31.17,47.98,5.53,4.49,766.33,0\\r\\nRegular Menu,FILLET-O-FISH Burger,136 g,348.11,15.44,14.16,5.79,0.21,32.83,38.85,5.58,3.54,530.54,0\\r\\nRegular Menu,Mc Spicy Chicken Burger,186 g,451.92,21.46,19.36,7.63,0.18,66.04,46.08,5.88,4.49,928.52,0\\r\\nRegular Menu,Spicy Chicken Wrap,257 g,567.19,23.74,26.89,12.54,0.27,87.63,57.06,2.52,1.08,1152.38,0\\r\\nRegular Menu,Chicken Maharaja Mac,296 g,689.12,34.0,36.69,10.33,0.25,81.49,55.39,8.92,6.14,1854.71,3\\r\\nRegular Menu,American Chicken Burger,165 g,446.95,20.29,22.94,7.28,0.15,47.63,38.54,7.48,4.76,1132.3,0\\r\\nRegular Menu,Chicken Kebab Burger,138 g,357.05,8.64,14.02,4.84,0.13,1.51,47.9,5.08,3.49,548.79,0\\r\\nRegular Menu,Green Chilli Kebab naan,138 g,230.95,5.67,9.32,3.27,0.19,8.74,31.06,3.64,1.15,410.78,0\\r\\nRegular Menu,Mc Egg Masala Burger,126.2 g,290.42,12.45,12.27,3.64,0.11,213.09,32.89,4.89,3.64,757.91,0\\r\\nRegular Menu,Mc Egg Burger for Happy Meal,123 g,282.98,12.29,12.21,3.63,0.11,213.09,31.32,4.66,3.64,399.41,0\\r\\nRegular Menu,Ghee Rice with Mc Spicy Fried Chicken 1 pc,325 g,720.3,26.91,29.2,5.08,0.3,31.32,77.47,3.28,0.35,2399.49,0\\r\\nRegular Menu,McSpicy Fried Chicken 1 pc,115 g,248.76,17.33,14.29,2.82,0.06,31.11,12.7,0.58,0.0,873.89,2\\r\\nRegular Menu,4 piece Chicken McNuggets,64 g,169.68,10.03,9.54,4.45,0.06,24.66,10.5,0.32,0.0,313.25,0\\r\\nRegular Menu,6 piece Chicken McNuggets,96 g,254.52,15.04,14.3,6.68,0.1,36.99,15.74,0.48,0.0,469.87,0\\r\\nRegular Menu,9 piece Chicken McNuggets,144 g,381.77,22.56,21.46,10.02,0.14,55.48,23.62,0.72,0.0,704.81,0\\r\\nRegular Menu,2 piece Chicken Strips,58 g,164.44,10.17,12.38,11.41,0.06,30.1,2.68,0.29,0.0,477.22,0\\r\\nRegular Menu,3 piece Chicken Strips,87 g,246.65,15.26,18.57,17.12,0.09,45.15,4.02,0.44,0.0,715.83,0\\r\\nRegular Menu,5 piece Chicken Strips,145 g,411.09,25.43,28.54,0.15,75.26,6.7,0.73,0.72,0.0,1193.05,0\\r\\nRegular Menu,Regular Fries,77 g,224.59,3.38,10.39,4.97,0.08,0.77,27.08,0.39,0.0,153.15,0\\r\\nRegular Menu,Medium Fries,109 g,317.92,4.79,14.7,7.04,0.11,1.09,38.34,0.55,0.0,216.79,0\\r\\nRegular Menu,Large Fries,154 g,449.17,6.76,20.77,9.95,0.15,1.54,54.16,0.77,0.0,306.29,0\\r\\nRegular Menu,Regular Wedges,114 g,204.65,3.97,7.15,3.39,0.1,0.97,28.74,0.48,0.0,356.44,0\\r\\nRegular Menu,Medium Wedges,156 g,280.05,5.44,9.79,4.64,0.13,1.33,39.33,0.66,0.0,487.76,0\\r\\nRegular Menu,Large Wedges,216 g,387.76,7.53,13.55,6.43,0.18,1.84,54.46,0.92,0.0,675.35,0\\r\\nRegular Menu,L1 Coffee,200 ml,6.8,0.0,0.0,0.0,0.0,0.0,1.7,0.0,0.0,0.0,0\\r\\nRegular Menu,L1 Coffee with milk,205 ml,35.8,1.0,2.0,1.2,0.08,6.0,1.6,3.45,0.0,14.0,0\\r\\nRegular Menu,Double Chocochips Muffin,80 g,341.68,5.13,17.28,7.14,0.08,15.96,40.13,29.44,0.0,313.21,0\\r\\nRegular Menu,Vanilla Chocochips Muffin,80 g,329.29,4.48,15.46,7.14,0.08,78.52,40.13,29.6,0.0,254.92,0\\r\\nBreakfast Menu,Veg McMuffin,119 g,309.35,10.22,11.78,7.29,0.18,25.31,38.86,3.02,0.75,804.63,0\\r\\nBreakfast Menu,Double Cheese McMuffin,100 g,273.78,9.58,12.82,8.84,0.21,37.75,29.0,2.59,0.75,622.95,0\\r\\nBreakfast Menu,Spicy Egg McMuffin,123.2 g,278.27,11.49,11.81,3.43,0.11,212.61,31.37,2.63,1.05,773.6,0\\r\\nBreakfast Menu,Sausage Mc Muffin,112 g,281.44,16.25,10.81,6.04,0.17,53.02,28.62,2.38,0.75,742.6,0\\r\\nBreakfast Menu,Sausage Mc Muffin with egg,157 g,290.42,22.46,15.94,8.08,0.22,264.8,28.87,2.61,0.75,804.04,0\\r\\nBreakfast Menu,Egg McMuffin,112 g,283.46,14.05,12.31,6.92,0.17,233.3,28.12,2.38,0.75,519.31,0\\r\\nBreakfast Menu,Hot Cake with maple syrup,142 g,432.98,8.6,14.02,7.11,0.32,28.14,68.01,25.72,13.5,615.74,0\\r\\nBreakfast Menu,Hash Brown,64 g,140.29,1.93,7.32,3.42,0.06,0.64,15.63,0.32,0.0,275.26,0\\r\\nBreakfast Menu,Espresso,26.5 ml,12.87,0.52,0.03,0.03,0.03,0.27,2.55,0.13,0.0,0.32,0\\r\\nBreakfast Menu,Espresso Machiato,76.5 ml,44.98,2.09,2.02,1.49,0.08,6.27,4.97,2.5,0.0,26.05,0\\r\\nBreakfast Menu,Americano (S),276.5 ml,12.87,0.52,0.03,0.03,0.03,0.27,2.55,0.13,0.0,0.32,0\\r\\nBreakfast Menu,Americano (R),347.5 ml,23.07,0.94,0.05,0.05,0.05,0.48,4.57,0.24,0.0,0.57,0\\r\\nBreakfast Menu,Americano (L),455 ml,26.71,1.09,0.06,0.06,0.06,0.55,5.3,0.28,0.0,0.65,0\\r\\nBreakfast Menu,Cappuccino (S),201.5 ml,125.25,6.02,7.01,5.15,0.2,21.27,11.02,8.4,0.0,90.39,0\\r\\nBreakfast Menu,Cappuccino (R),297.5 ml,183.61,8.79,10.02,7.37,0.3,30.48,16.67,12.05,0.0,129.24,1\\r\\nMcCafe Menu,Cappuccino (L),355 ml,219.36,10.51,12.03,8.85,0.36,36.55,19.81,14.45,0.0,155.06,0\\r\\nMcCafe Menu,Latte (S),236.5 ml,147.72,7.12,8.41,6.18,0.24,25.47,12.71,10.06,0.0,108.4,0\\r\\nMcCafe Menu,Latte (R),307.5 ml,190.03,9.1,10.42,7.67,0.31,31.68,17.15,12.52,0.0,134.39,0\\r\\nMcCafe Menu,Latte (L),375 ml,232.2,11.14,12.82,9.43,0.38,38.95,20.77,15.4,0.0,165.36,0\\r\\nMcCafe Menu,Flat White (S),266.5 ml,166.99,8.06,9.6,7.06,0.27,29.07,14.16,11.47,0.0,123.84,1\\r\\nMcCafe Menu,Flat White (R),347.5 ml,215.72,10.36,12.02,8.84,0.35,36.48,19.08,14.41,0.0,154.98,0\\r\\nMcCafe Menu,Flat White (L),405 ml,251.47,12.08,14.02,10.31,0.41,42.55,22.22,16.81,0.0,180.8,0\\r\\nMcCafe Menu,Mocha (S),242.5 ml,185.85,7.15,8.2,5.94,0.26,24.43,22.59,17.57,6.08,132.84,0\\r\\nMcCafe Menu,Mocha (R),311.5 ml,244.0,8.99,9.91,7.17,0.34,29.52,31.72,23.56,9.12,168.47,0\\r\\nMcCafe Menu,Mocha (L),377 ml,302.02,10.88,12.01,8.67,0.41,35.67,40.04,29.96,12.16,209.09,0\\r\\nMcCafe Menu,Babycino,127 ml,143.5,3.87,4.38,3.08,0.15,12.27,22.85,18.53,9.21,96.44,0\\r\\nMcCafe Menu,Hot Chocolate (S),223 ml,239.42,6.73,7.77,5.49,0.26,22.03,37.08,30.31,15.29,167.21,0\\r\\nMcCafe Menu,Hot Chocolate (R),259 ml,296.81,7.7,8.76,6.13,0.32,24.59,48.41,39.24,21.37,207.09,0\\r\\nMcCafe Menu,Hot Chocolate (L),367 ml,383.29,11.01,12.84,9.09,0.43,36.67,58.43,47.96,24.41,273.35,0\\r\\nMcCafe Menu,Premium Dark Hot Chocolate,153 ml,214.21,6.15,5.96,4.27,0.15,14.73,33.04,25.73,1.04,68.28,0\\r\\nMcCafe Menu,Double Dark Hot Chocolate,163 ml,255.78,6.87,6.32,4.49,0.16,14.83,41.29,31.81,1.35,70.26,0\\r\\nMcCafe Menu,English Breakfast (S),279 ml,9.93,0.56,0.28,0.28,0.28,2.79,0.28,1.4,0.0,13.84,0\\r\\nMcCafe Menu,English Breakfast (R),330 ml,11.75,0.66,0.33,0.33,0.33,3.3,0.33,1.65,0.0,16.37,0\\r\\nMcCafe Menu,English Breakfast (L),456 ml,16.23,0.91,0.46,0.46,0.46,4.56,0.46,2.28,0.0,22.62,0\\r\\nMcCafe Menu,Moroccon Mint Green Tea (S),279 ml,6.25,0.33,0.28,0.28,0.28,2.79,2.79,1.4,0.0,14.95,1\\r\\nMcCafe Menu,Moroccon Mint Green Tea (R),330 ml,7.39,0.4,0.33,0.33,0.33,3.3,3.3,1.65,0.0,17.69,1\\r\\nMcCafe Menu,Moroccon Mint Green Tea (L),456 ml,10.21,0.55,0.46,0.46,0.46,4.56,4.56,2.28,0.0,24.44,0\\r\\nMcCafe Menu,Strawberry Green Tea (S),279 ml,7.03,0.47,0.28,0.28,0.28,2.79,2.79,1.4,0.0,14.54,1\\r\\nMcCafe Menu,Strawberry Green Tea (R),330 ml,8.32,0.56,0.33,0.33,0.33,3.3,3.3,1.65,0.0,17.19,1\\r\\nMcCafe Menu,Strawberry Green Tea (L),456 ml,11.49,0.78,0.46,0.46,0.46,4.56,4.56,2.28,0.0,23.76,0\\r\\nMcCafe Menu,Lemon Ice Tea,245 ml,121.86,0.27,0.17,0.17,0.17,1.65,30.59,26.53,25.6,10.26,0\\r\\nMcCafe Menu,Strawberry Ice Tea,236.5 ml,94.95,0.24,0.16,0.16,0.16,1.57,24.17,21.1,20.27,9.72,0\\r\\nMcCafe Menu,Green Apple Ice Tea,236.5 ml,94.94,0.24,0.16,0.16,0.16,1.57,24.17,20.75,19.94,9.61,0\\r\\nMcCafe Menu,Iced Coffee,291.5 ml,185.34,4.36,4.45,3.26,0.15,12.13,31.88,26.95,17.5,78.35,0\\r\\nMcCafe Menu,Cold Coffee Frappe,296.5 ml,331.17,4.98,14.73,13.91,0.16,9.18,45.39,35.57,27.51,188.93,0\\r\\nMcCafe Menu,Mocha Frappe,320.5 ml,397.98,5.49,15.01,14.0,0.2,9.42,60.93,47.55,36.63,233.32,0\\r\\nMcCafe Menu,Chocolate Oreo Frappe,334 ml,481.11,6.03,18.89,15.91,0.22,9.36,72.51,55.14,44.35,332.6,0\\r\\nMcCafe Menu,Strawberry Shake,259 ml,255.51,3.67,7.44,6.68,0.12,8.39,44.07,37.42,29.8,139.97,0\\r\\nMcCafe Menu,Chocolate Shake,259 ml,270.9,4.16,7.7,6.74,0.14,8.39,46.76,37.78,27.88,178.46,0\\r\\nMcCafe Menu,Mango Smoothie,280 ml,231.44,3.21,3.63,2.65,0.14,9.89,46.25,38.87,29.72,85.45,0\\r\\nMcCafe Menu,Mixed Berry Smoothie,290 ml,235.43,3.33,3.59,2.64,0.15,9.99,47.16,43.0,33.65,92.07,0\\r\\nMcCafe Menu,Raw Mango Cooler,310 ml,102.38,0.14,0.04,0.04,0.04,0.4,25.18,21.06,19.28,102.68,0\\r\\nMcCafe Menu,Mix Berry Cooler,310 ml,103.85,0.16,0.04,0.04,0.04,0.4,25.56,21.25,20.52,23.82,0\\r\\nMcCafe Menu,Sweet Lime Beverage,310 ml,128.21,0.07,0.08,0.0,0.0,0.0,31.72,28.72,28.08,66.2,0\\r\\nMcCafe Menu,Iced Americano,266.5 ml,150.85,3.59,3.57,2.62,0.13,9.76,26.01,21.58,14.0,62.75,0\\r\\nMcCafe Menu,American Mud Pie Shake,317 ml,398.19,5.67,12.77,11.38,0.2,10.89,64.75,53.4,34.35,185.73,2\\r\\nMcCafe Menu,Soft serve cone,81.29 g,85.73,1.99,1.82,1.31,0.05,4.75,15.23,10.68,6.99,40.78,0\\r\\nMcCafe Menu,McSwirl ChocoDip,93.29 g,160.14,2.71,7.14,5.25,0.07,5.71,20.92,15.39,11.31,51.31,0\\r\\nMcCafe Menu,Regular Soft Serve: Hot Fudge,91.79 g,121.64,2.25,4.02,3.01,0.08,5.85,19.11,17.07,10.78,65.56,0\\r\\nMcCafe Menu,Medium Soft Serve: Hot Fudge,132.08 g,197.45,3.49,6.87,5.16,0.13,8.55,30.42,27.01,16.9,110.39,0\\r\\nMcCafe Menu,Regular Soft Serve: Strawberry,91.79 g,100.99,1.54,1.77,1.3,0.06,4.85,19.78,17.66,12.49,34.51,0\\r\\nMcCafe Menu,Medium Soft Serve: Strawberry,132.08 g,156.14,2.05,2.36,1.74,0.1,6.55,31.77,28.2,20.32,48.28,0\\r\\nMcCafe Menu,Regular Soft Serve: Brownie with Hot Fudge,110.79 g,205.26,3.2,5.45,3.65,0.1,6.04,35.26,20.75,14.39,100.89,0\\r\\nMcCafe Menu,Medium Soft Serve: Brownie with Hot Fudge,155.08 g,311.39,4.65,7.46,4.71,0.13,7.78,55.24,27.94,20.28,146.4,0\\r\\nMcCafe Menu,Regular Blackforest,125.79 g,237.89,3.22,5.47,3.66,0.11,6.19,43.42,27.79,19.94,104.47,0\\r\\nMcCafe Menu,Medium Blackforest,200.08 g,429.95,5.42,9.76,6.47,0.19,9.23,79.04,48.45,35.22,188.2,0\\r\\nDesserts Menu,Small McFlurry - Oreo,86.79 g,116.36,2.05,3.7,2.25,0.07,4.8,18.69,14.49,10.8,80.73,0\\r\\nDesserts Menu,Regular McFlurry - Oreo,147.38 g,209.39,3.58,6.81,4.07,0.12,8.0,33.42,25.35,19.23,150.9,0\\r\\nGourmet Menu,American Triple Cheese Chicken,195 g,457.94,24.43,22.65,11.56,0.17,71.23,37.45,7.64,3.84,1396.17,0\\r\\nGourmet Menu,American Triple Cheese Veg,207 g,524.69,19.54,23.16,14.78,0.19,48.74,56.24,7.9,3.84,1174.27,0\\r\\nGourmet Menu,Cheese Lava Burger,240 g,671.06,14.99,33.48,14.12,0.21,33.21,74.25,16.27,10.01,1153.99,0\\r\\nGourmet Menu,Chicken Cheese Lava Burger,307 g,834.36,27.37,45.18,17.0,0.27,73.11,76.03,16.75,10.01,1745.04,0\\r\\nGourmet Menu,Chunky Chipotle American Burger Chicken,301 g,641.36,39.47,31.51,9.54,0.26,110.37,46.24,9.16,6.32,1906.27,0\\r\\nGourmet Menu,McSpicy Premium Chicken Burger,264.5 g,622.25,31.49,34.65,15.55,0.24,302.61,43.6,6.07,2.64,1614.88,0\\r\\nGourmet Menu,McSpicy Premium Veg Burger,212.5 g,634.71,22.44,39.21,20.46,0.2,43.68,46.0,7.57,3.28,1446.87,0\\r\\nGourmet Menu,Piri piri Mc Spicy Chicken Burger,228 g,443.4,25.63,17.3,4.01,0.19,64.19,43.29,9.29,6.32,,0\\r\\nGourmet Menu,Piri piri Mc Spicy Veg Burger,211 g,517.98,11.97,24.53,6.01,0.18,8.1,58.87,12.87,6.67,1170.89,0\\r\\nGourmet Menu,Cheesy Veg Nuggets (6pc),90 g,252.29,8.48,13.09,7.53,0.09,20.03,23.6,1.31,0.0,428.17,0\\r\\nGourmet Menu,Cheesy Veg Nuggets (9pc),135 g,378.43,12.72,19.63,11.3,0.14,30.05,35.4,1.96,0.0,642.25,2\\r\\nBeverages Menu,Small Coca-Cola,299 ml,109.56,0.0,0.0,0.0,0.0,0.0,27.39,27.39,27.39,21.17,0\\r\\nBeverages Menu,Medium Coca-Cola,394 ml,151.36,0.0,0.0,0.0,0.0,0.0,37.84,37.84,37.84,29.24,0\\r\\nBeverages Menu,Large Coca-Cola,544 ml,217.36,0.0,0.0,0.0,0.0,0.0,54.34,54.34,54.34,41.99,0\\r\\nBeverages Menu,Small Fanta Oragne,299 ml,129.48,0.0,0.0,0.0,0.0,0.0,32.37,32.37,32.37,55.53,0\\r\\nBeverages Menu,Medium Fanta Orange,394 ml,178.88,0.0,0.0,0.0,0.0,0.0,44.72,44.72,44.72,76.71,0\\r\\nBeverages Menu,Large Fanta Oragne,544 ml,256.88,0.0,0.0,0.0,0.0,0.0,64.22,64.22,64.22,110.16,0\\r\\nBeverages Menu,Small Thums-up,299 ml,99.6,0.0,0.0,0.0,0.0,0.0,24.9,24.9,24.9,25.15,0\\r\\nBeverages Menu,Medium Thums-up,394 ml,137.6,0.0,0.0,0.0,0.0,0.0,34.4,34.4,34.4,34.74,0\\r\\nBeverages Menu,Large Thums-up,544 ml,197.6,0.0,0.0,0.0,0.0,0.0,49.4,49.4,49.4,49.89,0\\r\\nBeverages Menu,Small Sprite,299 ml,119.52,0.0,0.0,0.0,0.0,0.0,29.88,29.88,29.88,2.02,0\\r\\nBeverages Menu,Medium Sprite,394 ml,165.12,0.0,0.0,0.0,0.0,0.0,41.28,41.28,41.28,2.79,0\\r\\nBeverages Menu,Large Sprite,544 ml,237.12,0.0,0.0,0.0,0.0,0.0,59.28,59.28,59.28,4.0,0\\r\\nBeverages Menu,Coke Float,286.79 ml,138.76,1.52,1.75,1.28,0.05,4.7,29.22,28.23,24.54,44.53,0\\r\\nBeverages Menu,Fanta Float,286.79 ml,151.56,1.52,1.75,1.28,0.05,4.7,32.42,31.43,27.74,66.61,0\\r\\nBeverages Menu,Sprite Float,286.79 ml,145.16,1.52,1.75,1.28,0.05,4.7,30.82,29.83,26.14,47.09,0\\r\\nBeverages Menu,Coke Zero Can,330 ml,0.99,0.0,0.0,0.0,0.0,0.0,0.0,0.0,0.0,24.75,0\\r\\nBeverages Menu,Vedica Natural Mineral Water,500 ml,0.0,0.0,0.0,0.0,0.0,0.0,0.0,0.0,0.0,2.9,0\\r\\nCondiments Menu,Mustard diping sauce,25 g,81.18,0.52,5.57,1.78,0.47,0.29,7.24,6.66,4.0,221.32,0\\r\\nCondiments Menu,BBQ diping sauce,25 g,54.89,0.26,0.49,0.15,0.04,0.25,12.36,7.65,2.5,113.23,0\\r\\nCondiments Menu,Chilli Sauce,10 g,8.07,0.03,0.01,0.01,0.01,0.1,1.99,1.53,1.34,65.24,0\\r\\nCondiments Menu,Piri Piri Mix,5 g,17.13,0.51,0.36,0.08,0.01,0.05,2.5,0.66,0.4,414.71,0\\r\\nCondiments Menu,Tomato Ketchup Sachets,8 g,11.23,0.08,23.45,0.0,0.01,0.08,2.63,2.33,1.64,71.05,0\\r\\nCondiments Menu,Maple Syrup,30 g,86.4,0.0,0.0,0.0,0.0,0.3,21.6,16.2,5.34,15.0,0\\r\\nCondiments Menu,Cheese Slice,14 g,51.03,3.06,3.99,2.89,0.01,13.43,0.72,0.54,0.0,178.95,0\\r\\nCondiments Menu,Sweet Corn,40 g,45.08,1.47,1.0,0.22,0.04,2.0,7.55,2.54,0.0,0.04,0\\r\\nCondiments Menu,Mixed Fruit Beverage,180 ml,72.25,0.65,0.02,0.02,0.02,0.01,18.0,16.83,0.0,10.8,0\\r\\n'"
      ]
     },
     "execution_count": 16,
     "metadata": {},
     "output_type": "execute_result"
    }
   ],
   "source": [
    "df=pd.read_csv(r\"C:\\Users\\user\\Desktop\\ml\\India_Menu.csv\")\n",
    "df['Hunger Level']=df['Hunger Level'].astype('int')\n",
    "df.to_csv(index=False)"
   ]
  },
  {
   "cell_type": "code",
   "execution_count": 17,
   "metadata": {},
   "outputs": [
    {
     "data": {
      "text/html": [
       "<div>\n",
       "<style scoped>\n",
       "    .dataframe tbody tr th:only-of-type {\n",
       "        vertical-align: middle;\n",
       "    }\n",
       "\n",
       "    .dataframe tbody tr th {\n",
       "        vertical-align: top;\n",
       "    }\n",
       "\n",
       "    .dataframe thead th {\n",
       "        text-align: right;\n",
       "    }\n",
       "</style>\n",
       "<table border=\"1\" class=\"dataframe\">\n",
       "  <thead>\n",
       "    <tr style=\"text-align: right;\">\n",
       "      <th></th>\n",
       "      <th>Menu Category</th>\n",
       "      <th>Menu Items</th>\n",
       "      <th>Per Serve Size</th>\n",
       "      <th>Energy (kCal)</th>\n",
       "      <th>Protein (g)</th>\n",
       "      <th>Total fat (g)</th>\n",
       "      <th>Sat Fat (g)</th>\n",
       "      <th>Trans fat (g)</th>\n",
       "      <th>Cholesterols (mg)</th>\n",
       "      <th>Total carbohydrate (g)</th>\n",
       "      <th>Total Sugars (g)</th>\n",
       "      <th>Added Sugars (g)</th>\n",
       "      <th>Sodium (mg)</th>\n",
       "      <th>Hunger Level</th>\n",
       "    </tr>\n",
       "  </thead>\n",
       "  <tbody>\n",
       "    <tr>\n",
       "      <th>0</th>\n",
       "      <td>Regular Menu</td>\n",
       "      <td>McVeggie™ Burger</td>\n",
       "      <td>168 g</td>\n",
       "      <td>402.05</td>\n",
       "      <td>10.24</td>\n",
       "      <td>13.83</td>\n",
       "      <td>5.34</td>\n",
       "      <td>0.16</td>\n",
       "      <td>2.49</td>\n",
       "      <td>56.54</td>\n",
       "      <td>7.90</td>\n",
       "      <td>4.49</td>\n",
       "      <td>706.13</td>\n",
       "      <td>0</td>\n",
       "    </tr>\n",
       "    <tr>\n",
       "      <th>1</th>\n",
       "      <td>Regular Menu</td>\n",
       "      <td>McAloo Tikki Burger®</td>\n",
       "      <td>146 g</td>\n",
       "      <td>339.52</td>\n",
       "      <td>8.50</td>\n",
       "      <td>11.31</td>\n",
       "      <td>4.27</td>\n",
       "      <td>0.20</td>\n",
       "      <td>1.47</td>\n",
       "      <td>50.27</td>\n",
       "      <td>7.05</td>\n",
       "      <td>4.07</td>\n",
       "      <td>545.34</td>\n",
       "      <td>0</td>\n",
       "    </tr>\n",
       "    <tr>\n",
       "      <th>2</th>\n",
       "      <td>Regular Menu</td>\n",
       "      <td>McSpicy Paneer Burger</td>\n",
       "      <td>199 g</td>\n",
       "      <td>652.76</td>\n",
       "      <td>20.29</td>\n",
       "      <td>39.45</td>\n",
       "      <td>17.12</td>\n",
       "      <td>0.18</td>\n",
       "      <td>21.85</td>\n",
       "      <td>52.33</td>\n",
       "      <td>8.35</td>\n",
       "      <td>5.27</td>\n",
       "      <td>1074.58</td>\n",
       "      <td>0</td>\n",
       "    </tr>\n",
       "    <tr>\n",
       "      <th>3</th>\n",
       "      <td>Regular Menu</td>\n",
       "      <td>Spicy Paneer Wrap</td>\n",
       "      <td>250 g</td>\n",
       "      <td>674.68</td>\n",
       "      <td>20.96</td>\n",
       "      <td>39.10</td>\n",
       "      <td>19.73</td>\n",
       "      <td>0.26</td>\n",
       "      <td>40.93</td>\n",
       "      <td>59.27</td>\n",
       "      <td>3.50</td>\n",
       "      <td>1.08</td>\n",
       "      <td>1087.46</td>\n",
       "      <td>0</td>\n",
       "    </tr>\n",
       "    <tr>\n",
       "      <th>4</th>\n",
       "      <td>Regular Menu</td>\n",
       "      <td>American Veg Burger</td>\n",
       "      <td>177 g</td>\n",
       "      <td>512.17</td>\n",
       "      <td>15.30</td>\n",
       "      <td>23.45</td>\n",
       "      <td>10.51</td>\n",
       "      <td>0.17</td>\n",
       "      <td>25.24</td>\n",
       "      <td>56.96</td>\n",
       "      <td>7.85</td>\n",
       "      <td>4.76</td>\n",
       "      <td>1051.24</td>\n",
       "      <td>0</td>\n",
       "    </tr>\n",
       "    <tr>\n",
       "      <th>...</th>\n",
       "      <td>...</td>\n",
       "      <td>...</td>\n",
       "      <td>...</td>\n",
       "      <td>...</td>\n",
       "      <td>...</td>\n",
       "      <td>...</td>\n",
       "      <td>...</td>\n",
       "      <td>...</td>\n",
       "      <td>...</td>\n",
       "      <td>...</td>\n",
       "      <td>...</td>\n",
       "      <td>...</td>\n",
       "      <td>...</td>\n",
       "      <td>...</td>\n",
       "    </tr>\n",
       "    <tr>\n",
       "      <th>136</th>\n",
       "      <td>Condiments Menu</td>\n",
       "      <td>Tomato Ketchup Sachets</td>\n",
       "      <td>8 g</td>\n",
       "      <td>11.23</td>\n",
       "      <td>0.08</td>\n",
       "      <td>23.45</td>\n",
       "      <td>0.00</td>\n",
       "      <td>0.01</td>\n",
       "      <td>0.08</td>\n",
       "      <td>2.63</td>\n",
       "      <td>2.33</td>\n",
       "      <td>1.64</td>\n",
       "      <td>71.05</td>\n",
       "      <td>0</td>\n",
       "    </tr>\n",
       "    <tr>\n",
       "      <th>137</th>\n",
       "      <td>Condiments Menu</td>\n",
       "      <td>Maple Syrup</td>\n",
       "      <td>30 g</td>\n",
       "      <td>86.40</td>\n",
       "      <td>0.00</td>\n",
       "      <td>0.00</td>\n",
       "      <td>0.00</td>\n",
       "      <td>0.00</td>\n",
       "      <td>0.30</td>\n",
       "      <td>21.60</td>\n",
       "      <td>16.20</td>\n",
       "      <td>5.34</td>\n",
       "      <td>15.00</td>\n",
       "      <td>0</td>\n",
       "    </tr>\n",
       "    <tr>\n",
       "      <th>138</th>\n",
       "      <td>Condiments Menu</td>\n",
       "      <td>Cheese Slice</td>\n",
       "      <td>14 g</td>\n",
       "      <td>51.03</td>\n",
       "      <td>3.06</td>\n",
       "      <td>3.99</td>\n",
       "      <td>2.89</td>\n",
       "      <td>0.01</td>\n",
       "      <td>13.43</td>\n",
       "      <td>0.72</td>\n",
       "      <td>0.54</td>\n",
       "      <td>0.00</td>\n",
       "      <td>178.95</td>\n",
       "      <td>0</td>\n",
       "    </tr>\n",
       "    <tr>\n",
       "      <th>139</th>\n",
       "      <td>Condiments Menu</td>\n",
       "      <td>Sweet Corn</td>\n",
       "      <td>40 g</td>\n",
       "      <td>45.08</td>\n",
       "      <td>1.47</td>\n",
       "      <td>1.00</td>\n",
       "      <td>0.22</td>\n",
       "      <td>0.04</td>\n",
       "      <td>2.00</td>\n",
       "      <td>7.55</td>\n",
       "      <td>2.54</td>\n",
       "      <td>0.00</td>\n",
       "      <td>0.04</td>\n",
       "      <td>0</td>\n",
       "    </tr>\n",
       "    <tr>\n",
       "      <th>140</th>\n",
       "      <td>Condiments Menu</td>\n",
       "      <td>Mixed Fruit Beverage</td>\n",
       "      <td>180 ml</td>\n",
       "      <td>72.25</td>\n",
       "      <td>0.65</td>\n",
       "      <td>0.02</td>\n",
       "      <td>0.02</td>\n",
       "      <td>0.02</td>\n",
       "      <td>0.01</td>\n",
       "      <td>18.00</td>\n",
       "      <td>16.83</td>\n",
       "      <td>0.00</td>\n",
       "      <td>10.80</td>\n",
       "      <td>0</td>\n",
       "    </tr>\n",
       "  </tbody>\n",
       "</table>\n",
       "<p>141 rows × 14 columns</p>\n",
       "</div>"
      ],
      "text/plain": [
       "       Menu Category              Menu Items Per Serve Size  Energy (kCal)  \\\n",
       "0       Regular Menu        McVeggie™ Burger          168 g         402.05   \n",
       "1       Regular Menu    McAloo Tikki Burger®          146 g         339.52   \n",
       "2       Regular Menu   McSpicy Paneer Burger          199 g         652.76   \n",
       "3       Regular Menu       Spicy Paneer Wrap          250 g         674.68   \n",
       "4       Regular Menu     American Veg Burger          177 g         512.17   \n",
       "..               ...                     ...            ...            ...   \n",
       "136  Condiments Menu  Tomato Ketchup Sachets            8 g          11.23   \n",
       "137  Condiments Menu             Maple Syrup           30 g          86.40   \n",
       "138  Condiments Menu            Cheese Slice           14 g          51.03   \n",
       "139  Condiments Menu              Sweet Corn           40 g          45.08   \n",
       "140  Condiments Menu    Mixed Fruit Beverage         180 ml          72.25   \n",
       "\n",
       "     Protein (g)  Total fat (g)  Sat Fat (g)  Trans fat (g)  \\\n",
       "0          10.24          13.83         5.34           0.16   \n",
       "1           8.50          11.31         4.27           0.20   \n",
       "2          20.29          39.45        17.12           0.18   \n",
       "3          20.96          39.10        19.73           0.26   \n",
       "4          15.30          23.45        10.51           0.17   \n",
       "..           ...            ...          ...            ...   \n",
       "136         0.08          23.45         0.00           0.01   \n",
       "137         0.00           0.00         0.00           0.00   \n",
       "138         3.06           3.99         2.89           0.01   \n",
       "139         1.47           1.00         0.22           0.04   \n",
       "140         0.65           0.02         0.02           0.02   \n",
       "\n",
       "     Cholesterols (mg)  Total carbohydrate (g)  Total Sugars (g)  \\\n",
       "0                 2.49                   56.54              7.90   \n",
       "1                 1.47                   50.27              7.05   \n",
       "2                21.85                   52.33              8.35   \n",
       "3                40.93                   59.27              3.50   \n",
       "4                25.24                   56.96              7.85   \n",
       "..                 ...                     ...               ...   \n",
       "136               0.08                    2.63              2.33   \n",
       "137               0.30                   21.60             16.20   \n",
       "138              13.43                    0.72              0.54   \n",
       "139               2.00                    7.55              2.54   \n",
       "140               0.01                   18.00             16.83   \n",
       "\n",
       "     Added Sugars (g)  Sodium (mg)  Hunger Level  \n",
       "0                4.49       706.13             0  \n",
       "1                4.07       545.34             0  \n",
       "2                5.27      1074.58             0  \n",
       "3                1.08      1087.46             0  \n",
       "4                4.76      1051.24             0  \n",
       "..                ...          ...           ...  \n",
       "136              1.64        71.05             0  \n",
       "137              5.34        15.00             0  \n",
       "138              0.00       178.95             0  \n",
       "139              0.00         0.04             0  \n",
       "140              0.00        10.80             0  \n",
       "\n",
       "[141 rows x 14 columns]"
      ]
     },
     "execution_count": 17,
     "metadata": {},
     "output_type": "execute_result"
    }
   ],
   "source": [
    "df"
   ]
  },
  {
   "cell_type": "code",
   "execution_count": 18,
   "metadata": {},
   "outputs": [],
   "source": [
    "from sklearn.linear_model import LinearRegression\n",
    "from sklearn.model_selection import train_test_split"
   ]
  },
  {
   "cell_type": "code",
   "execution_count": 19,
   "metadata": {},
   "outputs": [],
   "source": [
    "X = df[['Energy (kCal)']] # Feature matrix\n",
    "y = df['Hunger Level']    # Target variable\n",
    "X_train, X_test, y_train, y_test = train_test_split(X, y, test_size=0.92,random_state=40)"
   ]
  },
  {
   "cell_type": "code",
   "execution_count": 36,
   "metadata": {},
   "outputs": [],
   "source": [
    "lr = LinearRegression()\n",
    "\n",
    "# Train the model on the training set\n",
    "lr.fit(X_train, y_train)\n",
    "\n",
    "# Predict the hunger level for the test set\n",
    "y_test = lr.predict(X_test)"
   ]
  },
  {
   "cell_type": "code",
   "execution_count": 21,
   "metadata": {},
   "outputs": [
    {
     "name": "stdout",
     "output_type": "stream",
     "text": [
      "Coefficients: [0.00291691]\n",
      "Intercept: 0.8387330744448135\n"
     ]
    }
   ],
   "source": [
    "print('Coefficients:', lr.coef_)\n",
    "print('Intercept:', lr.intercept_)"
   ]
  },
  {
   "cell_type": "code",
   "execution_count": 22,
   "metadata": {},
   "outputs": [
    {
     "name": "stdout",
     "output_type": "stream",
     "text": [
      "     Energy (kCal)\n",
      "73            7.03\n",
      "91          398.19\n",
      "55          166.99\n",
      "74            8.32\n",
      "19          248.76\n",
      "114         378.43\n",
      "71            7.39\n",
      "12          689.12\n",
      "50          183.61\n",
      "7           228.21\n",
      "70            6.25\n"
     ]
    }
   ],
   "source": [
    "print(X_train)"
   ]
  },
  {
   "cell_type": "code",
   "execution_count": 23,
   "metadata": {},
   "outputs": [
    {
     "name": "stdout",
     "output_type": "stream",
     "text": [
      "73     1\n",
      "91     2\n",
      "55     1\n",
      "74     1\n",
      "19     2\n",
      "114    2\n",
      "71     1\n",
      "12     3\n",
      "50     1\n",
      "7      1\n",
      "70     1\n",
      "Name: Hunger Level, dtype: int32\n"
     ]
    }
   ],
   "source": [
    "print(y_train)"
   ]
  },
  {
   "cell_type": "code",
   "execution_count": 24,
   "metadata": {},
   "outputs": [
    {
     "name": "stdout",
     "output_type": "stream",
     "text": [
      "     Energy (kCal)\n",
      "127         138.76\n",
      "103         209.39\n",
      "85          231.44\n",
      "78           94.94\n",
      "54          232.20\n",
      "..             ...\n",
      "30          280.05\n",
      "52          147.72\n",
      "8           400.80\n",
      "130           0.99\n",
      "49          125.25\n",
      "\n",
      "[130 rows x 1 columns]\n"
     ]
    }
   ],
   "source": [
    "print(X_test)"
   ]
  },
  {
   "cell_type": "code",
   "execution_count": 39,
   "metadata": {},
   "outputs": [],
   "source": [
    "y_test=y_test.round()"
   ]
  },
  {
   "cell_type": "code",
   "execution_count": 41,
   "metadata": {},
   "outputs": [],
   "source": [
    "y_test=y_test.astype('int')"
   ]
  },
  {
   "cell_type": "code",
   "execution_count": 42,
   "metadata": {},
   "outputs": [
    {
     "name": "stdout",
     "output_type": "stream",
     "text": [
      "[1 1 2 1 2 1 1 3 1 2 1 2 2 2 1 3 2 1 3 1 2 2 1 2 1 3 2 2 1 1 1 2 1 2 1 1 1\n",
      " 2 2 3 1 2 2 1 1 2 1 2 1 1 1 1 1 1 1 2 1 2 2 2 1 1 2 3 1 1 2 2 2 1 1 2 1 2\n",
      " 1 1 2 1 2 2 1 2 2 2 2 1 1 2 2 1 2 1 1 2 3 3 2 2 1 1 1 1 2 1 1 1 1 2 2 2 2\n",
      " 2 1 1 2 1 3 2 1 1 2 1 1 2 1 2 1 2 1 1]\n"
     ]
    }
   ],
   "source": [
    "print(y_test)"
   ]
  },
  {
   "cell_type": "code",
   "execution_count": null,
   "metadata": {},
   "outputs": [],
   "source": []
  }
 ],
 "metadata": {
  "kernelspec": {
   "display_name": "Python 3",
   "language": "python",
   "name": "python3"
  },
  "language_info": {
   "codemirror_mode": {
    "name": "ipython",
    "version": 3
   },
   "file_extension": ".py",
   "mimetype": "text/x-python",
   "name": "python",
   "nbconvert_exporter": "python",
   "pygments_lexer": "ipython3",
   "version": "3.11.2"
  },
  "orig_nbformat": 4,
  "vscode": {
   "interpreter": {
    "hash": "fb4569285eef3a3450cb62085a5b1e0da4bce0af555edc33dcf29baf3acc1368"
   }
  }
 },
 "nbformat": 4,
 "nbformat_minor": 2
}
