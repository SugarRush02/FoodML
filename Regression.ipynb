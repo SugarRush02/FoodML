{
  "cells": [
    {
      "cell_type": "markdown",
      "metadata": {
        "id": "view-in-github",
        "colab_type": "text"
      },
      "source": [
        "<a href=\"https://colab.research.google.com/github/SugarRush02/FoodML/blob/main/Regression.ipynb\" target=\"_parent\"><img src=\"https://colab.research.google.com/assets/colab-badge.svg\" alt=\"Open In Colab\"/></a>"
      ]
    },
    {
      "cell_type": "code",
      "execution_count": 2,
      "metadata": {
        "id": "LjqroD5i9Odi"
      },
      "outputs": [],
      "source": [
        "import pandas as pd"
      ]
    },
    {
      "cell_type": "code",
      "execution_count": 3,
      "metadata": {
        "id": "wfWPDWxf9Odj"
      },
      "outputs": [],
      "source": [
        "df=pd.read_csv(r\"Nutrition_Value_Dataset.csv\")"
      ]
    },
    {
      "cell_type": "code",
      "execution_count": 4,
      "metadata": {
        "colab": {
          "base_uri": "https://localhost:8080/",
          "height": 589
        },
        "id": "Bu7k0AuS9Odk",
        "outputId": "28cc7d49-f099-4595-8084-e6e951156720"
      },
      "outputs": [
        {
          "output_type": "execute_result",
          "data": {
            "text/plain": [
              "       Company   Category                           Product Per Serve Size  \\\n",
              "0    Pizza Hut  All Meals          Corn n Cheese (Personal)        143.5 g   \n",
              "1    Pizza Hut  All Meals          Country Feast (Personal)          178 g   \n",
              "2    Pizza Hut  All Meals          Double Cheese (Personal)          143 g   \n",
              "3    Pizza Hut  All Meals  Double Paneer Supreme (Personal)        174.5 g   \n",
              "4    Pizza Hut  All Meals          Farmer`s Pick (Personal)          177 g   \n",
              "..         ...        ...                               ...            ...   \n",
              "525    Dominos  All Meals                    CHICKEN WINGS           174.0   \n",
              "526    Dominos  All Meals            CRISPY CHICKEN STRIPS           156.0   \n",
              "527    Dominos  All Meals             ZINGY PARCEL CHICKEN           210.0   \n",
              "528    Dominos  All Meals          TACO MEXICANA - CHICKEN            97.0   \n",
              "529    Dominos  All Meals        CALZONE POCKETS - CHICKEN           248.0   \n",
              "\n",
              "     Energy (kCal)  Carbohydrates (g)  Protein (g)  Fiber (g)  Sugar (g)  \\\n",
              "0           432.60              65.64        17.91       3.85        0.0   \n",
              "1           407.60              67.11        16.73       7.19        0.0   \n",
              "2           423.33              59.97        18.26       3.49        0.0   \n",
              "3           474.03              52.86        20.07       3.79        0.0   \n",
              "4           408.16              53.93        19.91       2.46        0.0   \n",
              "..             ...                ...          ...        ...        ...   \n",
              "525         352.90              24.50        35.30       5.76       10.4   \n",
              "526         461.20              51.30        26.70       5.16        3.6   \n",
              "527         667.50              17.30        19.20      16.92       10.6   \n",
              "528         322.60              34.20         9.30       5.40        3.9   \n",
              "529         582.90             101.00        18.60       5.04       12.2   \n",
              "\n",
              "     Total Fat (g)  Saturated Fat (g)  Trans Fat (g)  Cholesterol (mg)  \\\n",
              "0            10.93               5.14           0.16             16.19   \n",
              "1             8.03               3.24           0.11             66.80   \n",
              "2            12.27               5.23           0.18             19.75   \n",
              "3            20.26               9.25           0.33             71.72   \n",
              "4            12.53               4.90           0.14             48.09   \n",
              "..             ...                ...            ...               ...   \n",
              "525          12.60               4.80           0.19            308.70   \n",
              "526          13.90               4.30           0.17            713.07   \n",
              "527          31.30              14.10           0.56            541.49   \n",
              "528          16.50               4.50           0.18            564.30   \n",
              "529          11.60               4.20           0.17           1171.60   \n",
              "\n",
              "     Sodium (mg)  Hunger Level  Protein Level  \n",
              "0         499.72             0              0  \n",
              "1         818.00             0              0  \n",
              "2         638.22             0              0  \n",
              "3        1128.11             0              0  \n",
              "4         942.67             0              0  \n",
              "..           ...           ...            ...  \n",
              "525          NaN             0              0  \n",
              "526          NaN             0              0  \n",
              "527          NaN             0              0  \n",
              "528          NaN             0              0  \n",
              "529          NaN             0              0  \n",
              "\n",
              "[530 rows x 16 columns]"
            ],
            "text/html": [
              "\n",
              "  <div id=\"df-d0cd3496-00f7-4209-b95d-3172d6148f94\">\n",
              "    <div class=\"colab-df-container\">\n",
              "      <div>\n",
              "<style scoped>\n",
              "    .dataframe tbody tr th:only-of-type {\n",
              "        vertical-align: middle;\n",
              "    }\n",
              "\n",
              "    .dataframe tbody tr th {\n",
              "        vertical-align: top;\n",
              "    }\n",
              "\n",
              "    .dataframe thead th {\n",
              "        text-align: right;\n",
              "    }\n",
              "</style>\n",
              "<table border=\"1\" class=\"dataframe\">\n",
              "  <thead>\n",
              "    <tr style=\"text-align: right;\">\n",
              "      <th></th>\n",
              "      <th>Company</th>\n",
              "      <th>Category</th>\n",
              "      <th>Product</th>\n",
              "      <th>Per Serve Size</th>\n",
              "      <th>Energy (kCal)</th>\n",
              "      <th>Carbohydrates (g)</th>\n",
              "      <th>Protein (g)</th>\n",
              "      <th>Fiber (g)</th>\n",
              "      <th>Sugar (g)</th>\n",
              "      <th>Total Fat (g)</th>\n",
              "      <th>Saturated Fat (g)</th>\n",
              "      <th>Trans Fat (g)</th>\n",
              "      <th>Cholesterol (mg)</th>\n",
              "      <th>Sodium (mg)</th>\n",
              "      <th>Hunger Level</th>\n",
              "      <th>Protein Level</th>\n",
              "    </tr>\n",
              "  </thead>\n",
              "  <tbody>\n",
              "    <tr>\n",
              "      <th>0</th>\n",
              "      <td>Pizza Hut</td>\n",
              "      <td>All Meals</td>\n",
              "      <td>Corn n Cheese (Personal)</td>\n",
              "      <td>143.5 g</td>\n",
              "      <td>432.60</td>\n",
              "      <td>65.64</td>\n",
              "      <td>17.91</td>\n",
              "      <td>3.85</td>\n",
              "      <td>0.0</td>\n",
              "      <td>10.93</td>\n",
              "      <td>5.14</td>\n",
              "      <td>0.16</td>\n",
              "      <td>16.19</td>\n",
              "      <td>499.72</td>\n",
              "      <td>0</td>\n",
              "      <td>0</td>\n",
              "    </tr>\n",
              "    <tr>\n",
              "      <th>1</th>\n",
              "      <td>Pizza Hut</td>\n",
              "      <td>All Meals</td>\n",
              "      <td>Country Feast (Personal)</td>\n",
              "      <td>178 g</td>\n",
              "      <td>407.60</td>\n",
              "      <td>67.11</td>\n",
              "      <td>16.73</td>\n",
              "      <td>7.19</td>\n",
              "      <td>0.0</td>\n",
              "      <td>8.03</td>\n",
              "      <td>3.24</td>\n",
              "      <td>0.11</td>\n",
              "      <td>66.80</td>\n",
              "      <td>818.00</td>\n",
              "      <td>0</td>\n",
              "      <td>0</td>\n",
              "    </tr>\n",
              "    <tr>\n",
              "      <th>2</th>\n",
              "      <td>Pizza Hut</td>\n",
              "      <td>All Meals</td>\n",
              "      <td>Double Cheese (Personal)</td>\n",
              "      <td>143 g</td>\n",
              "      <td>423.33</td>\n",
              "      <td>59.97</td>\n",
              "      <td>18.26</td>\n",
              "      <td>3.49</td>\n",
              "      <td>0.0</td>\n",
              "      <td>12.27</td>\n",
              "      <td>5.23</td>\n",
              "      <td>0.18</td>\n",
              "      <td>19.75</td>\n",
              "      <td>638.22</td>\n",
              "      <td>0</td>\n",
              "      <td>0</td>\n",
              "    </tr>\n",
              "    <tr>\n",
              "      <th>3</th>\n",
              "      <td>Pizza Hut</td>\n",
              "      <td>All Meals</td>\n",
              "      <td>Double Paneer Supreme (Personal)</td>\n",
              "      <td>174.5 g</td>\n",
              "      <td>474.03</td>\n",
              "      <td>52.86</td>\n",
              "      <td>20.07</td>\n",
              "      <td>3.79</td>\n",
              "      <td>0.0</td>\n",
              "      <td>20.26</td>\n",
              "      <td>9.25</td>\n",
              "      <td>0.33</td>\n",
              "      <td>71.72</td>\n",
              "      <td>1128.11</td>\n",
              "      <td>0</td>\n",
              "      <td>0</td>\n",
              "    </tr>\n",
              "    <tr>\n",
              "      <th>4</th>\n",
              "      <td>Pizza Hut</td>\n",
              "      <td>All Meals</td>\n",
              "      <td>Farmer`s Pick (Personal)</td>\n",
              "      <td>177 g</td>\n",
              "      <td>408.16</td>\n",
              "      <td>53.93</td>\n",
              "      <td>19.91</td>\n",
              "      <td>2.46</td>\n",
              "      <td>0.0</td>\n",
              "      <td>12.53</td>\n",
              "      <td>4.90</td>\n",
              "      <td>0.14</td>\n",
              "      <td>48.09</td>\n",
              "      <td>942.67</td>\n",
              "      <td>0</td>\n",
              "      <td>0</td>\n",
              "    </tr>\n",
              "    <tr>\n",
              "      <th>...</th>\n",
              "      <td>...</td>\n",
              "      <td>...</td>\n",
              "      <td>...</td>\n",
              "      <td>...</td>\n",
              "      <td>...</td>\n",
              "      <td>...</td>\n",
              "      <td>...</td>\n",
              "      <td>...</td>\n",
              "      <td>...</td>\n",
              "      <td>...</td>\n",
              "      <td>...</td>\n",
              "      <td>...</td>\n",
              "      <td>...</td>\n",
              "      <td>...</td>\n",
              "      <td>...</td>\n",
              "      <td>...</td>\n",
              "    </tr>\n",
              "    <tr>\n",
              "      <th>525</th>\n",
              "      <td>Dominos</td>\n",
              "      <td>All Meals</td>\n",
              "      <td>CHICKEN WINGS</td>\n",
              "      <td>174.0</td>\n",
              "      <td>352.90</td>\n",
              "      <td>24.50</td>\n",
              "      <td>35.30</td>\n",
              "      <td>5.76</td>\n",
              "      <td>10.4</td>\n",
              "      <td>12.60</td>\n",
              "      <td>4.80</td>\n",
              "      <td>0.19</td>\n",
              "      <td>308.70</td>\n",
              "      <td>NaN</td>\n",
              "      <td>0</td>\n",
              "      <td>0</td>\n",
              "    </tr>\n",
              "    <tr>\n",
              "      <th>526</th>\n",
              "      <td>Dominos</td>\n",
              "      <td>All Meals</td>\n",
              "      <td>CRISPY CHICKEN STRIPS</td>\n",
              "      <td>156.0</td>\n",
              "      <td>461.20</td>\n",
              "      <td>51.30</td>\n",
              "      <td>26.70</td>\n",
              "      <td>5.16</td>\n",
              "      <td>3.6</td>\n",
              "      <td>13.90</td>\n",
              "      <td>4.30</td>\n",
              "      <td>0.17</td>\n",
              "      <td>713.07</td>\n",
              "      <td>NaN</td>\n",
              "      <td>0</td>\n",
              "      <td>0</td>\n",
              "    </tr>\n",
              "    <tr>\n",
              "      <th>527</th>\n",
              "      <td>Dominos</td>\n",
              "      <td>All Meals</td>\n",
              "      <td>ZINGY PARCEL CHICKEN</td>\n",
              "      <td>210.0</td>\n",
              "      <td>667.50</td>\n",
              "      <td>17.30</td>\n",
              "      <td>19.20</td>\n",
              "      <td>16.92</td>\n",
              "      <td>10.6</td>\n",
              "      <td>31.30</td>\n",
              "      <td>14.10</td>\n",
              "      <td>0.56</td>\n",
              "      <td>541.49</td>\n",
              "      <td>NaN</td>\n",
              "      <td>0</td>\n",
              "      <td>0</td>\n",
              "    </tr>\n",
              "    <tr>\n",
              "      <th>528</th>\n",
              "      <td>Dominos</td>\n",
              "      <td>All Meals</td>\n",
              "      <td>TACO MEXICANA - CHICKEN</td>\n",
              "      <td>97.0</td>\n",
              "      <td>322.60</td>\n",
              "      <td>34.20</td>\n",
              "      <td>9.30</td>\n",
              "      <td>5.40</td>\n",
              "      <td>3.9</td>\n",
              "      <td>16.50</td>\n",
              "      <td>4.50</td>\n",
              "      <td>0.18</td>\n",
              "      <td>564.30</td>\n",
              "      <td>NaN</td>\n",
              "      <td>0</td>\n",
              "      <td>0</td>\n",
              "    </tr>\n",
              "    <tr>\n",
              "      <th>529</th>\n",
              "      <td>Dominos</td>\n",
              "      <td>All Meals</td>\n",
              "      <td>CALZONE POCKETS - CHICKEN</td>\n",
              "      <td>248.0</td>\n",
              "      <td>582.90</td>\n",
              "      <td>101.00</td>\n",
              "      <td>18.60</td>\n",
              "      <td>5.04</td>\n",
              "      <td>12.2</td>\n",
              "      <td>11.60</td>\n",
              "      <td>4.20</td>\n",
              "      <td>0.17</td>\n",
              "      <td>1171.60</td>\n",
              "      <td>NaN</td>\n",
              "      <td>0</td>\n",
              "      <td>0</td>\n",
              "    </tr>\n",
              "  </tbody>\n",
              "</table>\n",
              "<p>530 rows × 16 columns</p>\n",
              "</div>\n",
              "      <button class=\"colab-df-convert\" onclick=\"convertToInteractive('df-d0cd3496-00f7-4209-b95d-3172d6148f94')\"\n",
              "              title=\"Convert this dataframe to an interactive table.\"\n",
              "              style=\"display:none;\">\n",
              "        \n",
              "  <svg xmlns=\"http://www.w3.org/2000/svg\" height=\"24px\"viewBox=\"0 0 24 24\"\n",
              "       width=\"24px\">\n",
              "    <path d=\"M0 0h24v24H0V0z\" fill=\"none\"/>\n",
              "    <path d=\"M18.56 5.44l.94 2.06.94-2.06 2.06-.94-2.06-.94-.94-2.06-.94 2.06-2.06.94zm-11 1L8.5 8.5l.94-2.06 2.06-.94-2.06-.94L8.5 2.5l-.94 2.06-2.06.94zm10 10l.94 2.06.94-2.06 2.06-.94-2.06-.94-.94-2.06-.94 2.06-2.06.94z\"/><path d=\"M17.41 7.96l-1.37-1.37c-.4-.4-.92-.59-1.43-.59-.52 0-1.04.2-1.43.59L10.3 9.45l-7.72 7.72c-.78.78-.78 2.05 0 2.83L4 21.41c.39.39.9.59 1.41.59.51 0 1.02-.2 1.41-.59l7.78-7.78 2.81-2.81c.8-.78.8-2.07 0-2.86zM5.41 20L4 18.59l7.72-7.72 1.47 1.35L5.41 20z\"/>\n",
              "  </svg>\n",
              "      </button>\n",
              "      \n",
              "  <style>\n",
              "    .colab-df-container {\n",
              "      display:flex;\n",
              "      flex-wrap:wrap;\n",
              "      gap: 12px;\n",
              "    }\n",
              "\n",
              "    .colab-df-convert {\n",
              "      background-color: #E8F0FE;\n",
              "      border: none;\n",
              "      border-radius: 50%;\n",
              "      cursor: pointer;\n",
              "      display: none;\n",
              "      fill: #1967D2;\n",
              "      height: 32px;\n",
              "      padding: 0 0 0 0;\n",
              "      width: 32px;\n",
              "    }\n",
              "\n",
              "    .colab-df-convert:hover {\n",
              "      background-color: #E2EBFA;\n",
              "      box-shadow: 0px 1px 2px rgba(60, 64, 67, 0.3), 0px 1px 3px 1px rgba(60, 64, 67, 0.15);\n",
              "      fill: #174EA6;\n",
              "    }\n",
              "\n",
              "    [theme=dark] .colab-df-convert {\n",
              "      background-color: #3B4455;\n",
              "      fill: #D2E3FC;\n",
              "    }\n",
              "\n",
              "    [theme=dark] .colab-df-convert:hover {\n",
              "      background-color: #434B5C;\n",
              "      box-shadow: 0px 1px 3px 1px rgba(0, 0, 0, 0.15);\n",
              "      filter: drop-shadow(0px 1px 2px rgba(0, 0, 0, 0.3));\n",
              "      fill: #FFFFFF;\n",
              "    }\n",
              "  </style>\n",
              "\n",
              "      <script>\n",
              "        const buttonEl =\n",
              "          document.querySelector('#df-d0cd3496-00f7-4209-b95d-3172d6148f94 button.colab-df-convert');\n",
              "        buttonEl.style.display =\n",
              "          google.colab.kernel.accessAllowed ? 'block' : 'none';\n",
              "\n",
              "        async function convertToInteractive(key) {\n",
              "          const element = document.querySelector('#df-d0cd3496-00f7-4209-b95d-3172d6148f94');\n",
              "          const dataTable =\n",
              "            await google.colab.kernel.invokeFunction('convertToInteractive',\n",
              "                                                     [key], {});\n",
              "          if (!dataTable) return;\n",
              "\n",
              "          const docLinkHtml = 'Like what you see? Visit the ' +\n",
              "            '<a target=\"_blank\" href=https://colab.research.google.com/notebooks/data_table.ipynb>data table notebook</a>'\n",
              "            + ' to learn more about interactive tables.';\n",
              "          element.innerHTML = '';\n",
              "          dataTable['output_type'] = 'display_data';\n",
              "          await google.colab.output.renderOutput(dataTable, element);\n",
              "          const docLink = document.createElement('div');\n",
              "          docLink.innerHTML = docLinkHtml;\n",
              "          element.appendChild(docLink);\n",
              "        }\n",
              "      </script>\n",
              "    </div>\n",
              "  </div>\n",
              "  "
            ]
          },
          "metadata": {},
          "execution_count": 4
        }
      ],
      "source": [
        "df['Hunger Level']=0\n",
        "df['Protein Level']=0\n",
        "df"
      ]
    },
    {
      "cell_type": "code",
      "execution_count": 5,
      "metadata": {
        "id": "GEdfoVHc9Odk"
      },
      "outputs": [],
      "source": [
        "from sklearn.linear_model import LinearRegression\n",
        "from sklearn.model_selection import train_test_split"
      ]
    },
    {
      "cell_type": "code",
      "execution_count": 6,
      "metadata": {
        "id": "NkSGRpfZ9Odk"
      },
      "outputs": [],
      "source": [
        "X=df[['Energy (kCal)']] # Feature matrix\n",
        "y=df['Hunger Level']    # Target variable\n",
        "w=df[['Protein (g)']]\n",
        "z=df['Protein Level']\n",
        "X_train, X_test, y_train, y_test = train_test_split(X, y, test_size=0.95,random_state=2)\n",
        "w_train, w_test, z_train, z_test = train_test_split(w, z, test_size=0.95,random_state=2)"
      ]
    },
    {
      "cell_type": "code",
      "execution_count": 7,
      "metadata": {
        "colab": {
          "base_uri": "https://localhost:8080/"
        },
        "id": "uFq47quG9Odk",
        "outputId": "389dc93f-38bc-4f6c-99b0-fccb61fb4916"
      },
      "outputs": [
        {
          "output_type": "stream",
          "name": "stdout",
          "text": [
            "     Energy (kCal)\n",
            "211         270.00\n",
            "351          99.60\n",
            "454         253.50\n",
            "302           7.39\n",
            "196         240.00\n",
            "88          443.92\n",
            "325         121.64\n",
            "323          85.73\n",
            "255         246.65\n",
            "359         145.16\n",
            "51          568.53\n",
            "102         466.92\n",
            "195         100.00\n",
            "124         439.02\n",
            "404         699.40\n",
            "287         215.72\n",
            "47          561.68\n",
            "433          72.30\n",
            "263           6.80\n",
            "360           0.99\n",
            "75          385.35\n",
            "466         225.40\n",
            "299          11.75\n",
            "493         227.70\n",
            "527         667.50\n",
            "168         665.70\n"
          ]
        }
      ],
      "source": [
        "print(X_train)"
      ]
    },
    {
      "cell_type": "code",
      "execution_count": 8,
      "metadata": {
        "colab": {
          "base_uri": "https://localhost:8080/"
        },
        "id": "KzkvvJNn9Odl",
        "outputId": "2cb0f64d-a51a-4728-9b57-82ad0a462628"
      },
      "outputs": [
        {
          "output_type": "stream",
          "name": "stdout",
          "text": [
            "211    0\n",
            "351    0\n",
            "454    0\n",
            "302    0\n",
            "196    0\n",
            "88     0\n",
            "325    0\n",
            "323    0\n",
            "255    0\n",
            "359    0\n",
            "51     0\n",
            "102    0\n",
            "195    0\n",
            "124    0\n",
            "404    0\n",
            "287    0\n",
            "47     0\n",
            "433    0\n",
            "263    0\n",
            "360    0\n",
            "75     0\n",
            "466    0\n",
            "299    0\n",
            "493    0\n",
            "527    0\n",
            "168    0\n",
            "Name: Hunger Level, dtype: int64\n"
          ]
        }
      ],
      "source": [
        "print(y_train)"
      ]
    },
    {
      "cell_type": "code",
      "execution_count": 9,
      "metadata": {
        "colab": {
          "base_uri": "https://localhost:8080/"
        },
        "id": "3Z4nyPPi9Odl",
        "outputId": "343191e6-05ff-4d22-c705-84797d4d10b7"
      },
      "outputs": [
        {
          "output_type": "stream",
          "name": "stdout",
          "text": [
            "     Protein (g)\n",
            "211        10.00\n",
            "351         0.00\n",
            "454        10.80\n",
            "302         0.40\n",
            "196         3.00\n",
            "88         18.77\n",
            "325         2.25\n",
            "323         1.99\n",
            "255        15.26\n",
            "359         1.52\n",
            "51         23.45\n",
            "102        17.11\n",
            "195         2.00\n",
            "124        20.35\n",
            "404        85.30\n",
            "287        10.36\n",
            "47         18.99\n",
            "433         0.30\n",
            "263         0.00\n",
            "360         0.00\n",
            "75         14.12\n",
            "466        10.10\n",
            "299         0.66\n",
            "493        10.50\n",
            "527        19.20\n",
            "168        70.40\n"
          ]
        }
      ],
      "source": [
        "print(w_train)"
      ]
    },
    {
      "cell_type": "code",
      "execution_count": 10,
      "metadata": {
        "colab": {
          "base_uri": "https://localhost:8080/"
        },
        "id": "bZA_ypb59Odl",
        "outputId": "d72433fc-37f9-495e-8c9a-fd5c29307e4a"
      },
      "outputs": [
        {
          "output_type": "stream",
          "name": "stdout",
          "text": [
            "211    0\n",
            "351    0\n",
            "454    0\n",
            "302    0\n",
            "196    0\n",
            "88     0\n",
            "325    0\n",
            "323    0\n",
            "255    0\n",
            "359    0\n",
            "51     0\n",
            "102    0\n",
            "195    0\n",
            "124    0\n",
            "404    0\n",
            "287    0\n",
            "47     0\n",
            "433    0\n",
            "263    0\n",
            "360    0\n",
            "75     0\n",
            "466    0\n",
            "299    0\n",
            "493    0\n",
            "527    0\n",
            "168    0\n",
            "Name: Protein Level, dtype: int64\n"
          ]
        }
      ],
      "source": [
        "print(z_train)"
      ]
    },
    {
      "cell_type": "code",
      "execution_count": 11,
      "metadata": {
        "colab": {
          "base_uri": "https://localhost:8080/"
        },
        "id": "R2-UPv0z9Odl",
        "outputId": "95873ce6-5865-4a22-ee29-a03da2c094fe"
      },
      "outputs": [
        {
          "output_type": "stream",
          "name": "stdout",
          "text": [
            "[2, 1, 1, 1, 1, 2, 1, 1, 1, 1, 3, 2, 1, 2, 3, 1, 3, 1, 1, 1, 2, 1, 1, 1, 3, 3]\n"
          ]
        }
      ],
      "source": [
        "y_train=[2,1,1,1,1,2,1,1,1,1,3,2,1,2,3,1,3,1,1,1,2,1,1,1,3,3]\n",
        "print(y_train)"
      ]
    },
    {
      "cell_type": "code",
      "execution_count": 12,
      "metadata": {
        "colab": {
          "base_uri": "https://localhost:8080/"
        },
        "id": "tIFsv5tD9Odl",
        "outputId": "56b5528d-7cad-4b06-d231-0af7e4d7afef"
      },
      "outputs": [
        {
          "output_type": "stream",
          "name": "stdout",
          "text": [
            "[0, 0, 0, 0, 0, 0, 0, 0, 0, 0, 1, 0, 0, 0, 4, 0, 0, 0, 0, 0, 0, 0, 0, 0, 0, 3]\n"
          ]
        }
      ],
      "source": [
        "z_train=[0,0,0,0,0,0,0,0,0,0,1,0,0,0,4,0,0,0,0,0,0,0,0,0,0,3]\n",
        "print(z_train)"
      ]
    },
    {
      "cell_type": "code",
      "execution_count": 13,
      "metadata": {
        "id": "6khT2UFd9Odl"
      },
      "outputs": [],
      "source": [
        "lr = LinearRegression()\n",
        "\n",
        "# Train the model on the training set\n",
        "lr.fit(X_train, y_train)\n",
        "\n",
        "# Predict the hunger level for the test set\n",
        "y_pred = lr.predict(X_test)\n",
        "\n",
        "\n",
        "lr.fit(w_train,z_train)\n",
        "\n",
        "# Predict the Protein Level for the test set\n",
        "z_pred=lr.predict(w_test)"
      ]
    },
    {
      "cell_type": "code",
      "execution_count": 14,
      "metadata": {
        "colab": {
          "base_uri": "https://localhost:8080/"
        },
        "id": "7T9Q8IwK9Odm",
        "outputId": "80a218c2-2793-48ff-a8aa-b743eb1544f4"
      },
      "outputs": [
        {
          "output_type": "stream",
          "name": "stdout",
          "text": [
            "Coefficients: [0.04456633]\n",
            "Intercept: -0.3210872238801403\n"
          ]
        }
      ],
      "source": [
        "print('Coefficients:', lr.coef_)\n",
        "print('Intercept:', lr.intercept_)"
      ]
    },
    {
      "cell_type": "code",
      "execution_count": 15,
      "metadata": {
        "colab": {
          "base_uri": "https://localhost:8080/"
        },
        "id": "UhJB7euL9Odm",
        "outputId": "4d7e99d3-986d-4698-da16-9fc9c000c6b2"
      },
      "outputs": [
        {
          "output_type": "stream",
          "name": "stdout",
          "text": [
            "     Energy (kCal)\n",
            "232         339.52\n",
            "286         166.99\n",
            "314         255.51\n",
            "321         150.85\n",
            "388         450.60\n",
            "..             ...\n",
            "52          561.95\n",
            "80          407.76\n",
            "450         175.50\n",
            "31          557.70\n",
            "121         246.73\n",
            "\n",
            "[504 rows x 1 columns]\n"
          ]
        }
      ],
      "source": [
        "print(X_test)"
      ]
    },
    {
      "cell_type": "code",
      "execution_count": 16,
      "metadata": {
        "id": "mAhNP0eD9Odm"
      },
      "outputs": [],
      "source": [
        "y_pred=y_pred.round()"
      ]
    },
    {
      "cell_type": "code",
      "execution_count": 17,
      "metadata": {
        "id": "UMpt2Xrg9Odm"
      },
      "outputs": [],
      "source": [
        "y_pred=y_pred.astype('int')"
      ]
    },
    {
      "cell_type": "code",
      "execution_count": 18,
      "metadata": {
        "colab": {
          "base_uri": "https://localhost:8080/"
        },
        "id": "5SZj0HsK9Odm",
        "outputId": "066992a3-f0a5-4260-acd6-0f0f2b9ab390"
      },
      "outputs": [
        {
          "output_type": "stream",
          "name": "stdout",
          "text": [
            "[ 2  1  2  1  2  1  1  5  3  2  2  1  2  2  2  4  2  2  1  1  1  1  2  1\n",
            "  1  2  2  1  3  1  1  1  2  2  2  1  2  2  5  2  1  2  1  1  2  2  3  3\n",
            "  2  2  2  1  2  1  1  1  2  1  6  2  1  2  1  2  2  2  1  1  2  2  2  1\n",
            "  2  1  1  2  2  2  1  1  2  1  2  2  2  2  2  2  2  2  1  2  2  2  2  3\n",
            "  2  2  2  2  1  8  2  2  1  2  2  3  2  2  1  1  3  1  1  1  1  1  2  2\n",
            "  1  1  2  1  1  1  1  5  1  3  2  2  1  2  1  2  2  1  1  1  1 10  2  1\n",
            "  2  1  3  1  1  1  3  1  1  1  2  1  2  1  3  2  1  2  3  5  2  1  1  2\n",
            "  2  2  2  2  1  1  1  2  1  3  2  9  2  1  2  2  2  4  1  2  2  1  1  2\n",
            "  1  5  2  3  1  1  2  1  3  1  2  2  3  2  2  1  1  1  2  2  3  2  1  5\n",
            "  2  2  1  3  1  3  2  1  3  4  2  2  1  3  2  2  2  3  2  1  1  2  2  2\n",
            "  2  5  2  1  2  2  1  1  5  2  1  1  1  1  2  1  9  2  2  1  1  2  2  1\n",
            "  2  1  1  2  8  1  2  3  1  2  3  2  2  2  3  2  5  2  5  1  2  1  2  2\n",
            "  3  2  7  3  1  2  2  2  1  1  1  2  2  1  2  2  2  1  2  1  2  1  2  2\n",
            "  2  2  1  1  2  1  2  2  2  2  1  1  1  2  2  1  2  1  1  1  2  1  2  1\n",
            "  1  2  3  2  2  1  3  1  3  3  1  2  1  1  2  2  1  2  2  3  1  1  2  2\n",
            "  2  6  3  1  2  1  5  2  2  1  1  1  1  1  2  2  1  2  1  1  2  3  2  2\n",
            "  2  2  1  2  4  2  1  3  1  1  1  1  1  2  1  1  3  3  2  2  1  3  2  2\n",
            "  1  2  2  2  2  2  1  1  1  2  2  1  2  2  2  2  1  3  1  2  2  1  2  1\n",
            "  2  2  1  2  2  2  2  2  1  2  1  2  1  1  1  2  2  2  2  3  1  2  3  2\n",
            "  1  2  1  1  1  1  3  1  1  1  2  1  2  1  2  3  2  1  1  1  1  2  2  2\n",
            "  2  4 10  2  3  3  2  1  1  1  2  3  2  1  1  2  3  1  1  3  2  1  3  1]\n"
          ]
        }
      ],
      "source": [
        "print(y_pred)"
      ]
    },
    {
      "cell_type": "code",
      "execution_count": 19,
      "metadata": {
        "colab": {
          "base_uri": "https://localhost:8080/"
        },
        "id": "VZhAsklT9Odm",
        "outputId": "9fae9119-7360-47ee-a37b-3f249df84ff9"
      },
      "outputs": [
        {
          "output_type": "stream",
          "name": "stdout",
          "text": [
            "     Protein (g)\n",
            "232         8.50\n",
            "286         8.06\n",
            "314         3.67\n",
            "321         3.59\n",
            "388        18.70\n",
            "..           ...\n",
            "52         25.11\n",
            "80         18.83\n",
            "450         7.80\n",
            "31         23.09\n",
            "121         3.58\n",
            "\n",
            "[504 rows x 1 columns]\n"
          ]
        }
      ],
      "source": [
        "print(w_test)"
      ]
    },
    {
      "cell_type": "code",
      "execution_count": 20,
      "metadata": {
        "id": "AvlqQvTR9Odm"
      },
      "outputs": [],
      "source": [
        "z_pred=z_pred.round()"
      ]
    },
    {
      "cell_type": "code",
      "execution_count": 21,
      "metadata": {
        "id": "VG10HLr19Odm"
      },
      "outputs": [],
      "source": [
        "z_pred=z_pred.astype('int')"
      ]
    },
    {
      "cell_type": "code",
      "execution_count": 22,
      "metadata": {
        "colab": {
          "base_uri": "https://localhost:8080/"
        },
        "id": "hxjbFL3Z9Odm",
        "outputId": "5770e3e8-f0af-402d-d13b-498d3d644cda"
      },
      "outputs": [
        {
          "output_type": "stream",
          "name": "stdout",
          "text": [
            "[0 0 0 0 1 0 0 4 1 0 0 1 1 0 0 3 0 0 0 0 0 0 0 0 0 0 1 0 0 0 0 0 0 0 1 0 0\n",
            " 0 1 0 0 1 1 0 1 0 0 1 1 0 0 0 0 0 0 0 0 0 2 0 0 0 0 0 0 0 0 0 0 0 1 0 0 0\n",
            " 0 0 1 1 0 0 1 0 0 0 0 1 1 0 0 0 0 0 1 0 0 1 0 0 1 0 0 5 1 0 0 1 0 1 1 1 0\n",
            " 0 1 0 0 0 0 0 0 0 0 0 1 0 0 0 0 4 0 1 0 0 0 1 0 0 1 0 0 0 0 7 1 0 0 0 1 0\n",
            " 0 0 0 0 0 0 0 0 0 0 1 1 0 0 0 2 0 0 0 1 0 0 0 1 0 0 0 0 0 1 0 6 1 0 0 1 0\n",
            " 1 0 1 0 0 0 0 0 5 0 0 0 0 0 0 1 0 0 1 1 0 0 0 0 0 1 1 1 0 0 3 1 0 0 0 0 2\n",
            " 0 0 1 1 0 0 0 1 1 0 0 1 1 0 0 0 0 1 1 4 1 0 0 1 0 0 4 1 0 0 0 0 0 0 9 2 0\n",
            " 0 0 1 1 0 0 0 0 0 5 0 0 1 0 0 1 1 0 1 1 0 3 0 4 0 0 0 0 0 1 1 6 0 0 1 0 1\n",
            " 0 0 0 1 1 0 1 0 0 0 0 0 0 0 1 1 0 0 0 0 0 0 0 0 1 1 0 0 0 0 1 0 0 0 0 0 0\n",
            " 0 0 0 0 1 1 0 0 0 2 0 1 1 0 0 0 0 1 0 0 1 1 1 0 0 0 0 0 4 2 0 1 0 7 0 0 0\n",
            " 0 0 0 0 1 0 0 0 0 0 0 1 1 0 0 1 0 0 4 1 0 1 0 0 0 0 0 0 0 0 1 1 0 0 0 1 0\n",
            " 0 0 1 0 0 0 1 0 0 0 0 0 0 0 0 0 0 0 1 0 0 0 1 0 0 0 0 0 0 1 0 1 0 0 0 0 1\n",
            " 0 0 1 1 0 0 1 1 0 1 1 0 0 1 0 0 0 0 1 0 0 0 0 0 1 0 1 1 1 0 0 0 0 0 0 1 0\n",
            " 5 8 0 0 1 1 0 0 0 0 1 0 0 0 1 1 0 0 1 1 0 1 0]\n"
          ]
        }
      ],
      "source": [
        "print(z_pred)"
      ]
    },
    {
      "cell_type": "code",
      "execution_count": 23,
      "metadata": {
        "id": "2gPZblhe9Odm"
      },
      "outputs": [],
      "source": [
        "df.loc[X_test.index,'Hunger Level']=y_pred\n",
        "df.loc[X_train.index,'Hunger Level']=y_train\n",
        "df.loc[w_test.index,'Protein Level']=z_pred\n",
        "df.loc[w_train.index,'Protein Level']=z_train"
      ]
    },
    {
      "cell_type": "code",
      "execution_count": 24,
      "metadata": {
        "colab": {
          "base_uri": "https://localhost:8080/",
          "height": 589
        },
        "id": "j_7tGfFt9Odn",
        "outputId": "c5af2f50-485e-4675-a297-d66ea761d031"
      },
      "outputs": [
        {
          "output_type": "execute_result",
          "data": {
            "text/plain": [
              "       Company   Category                           Product Per Serve Size  \\\n",
              "0    Pizza Hut  All Meals          Corn n Cheese (Personal)        143.5 g   \n",
              "1    Pizza Hut  All Meals          Country Feast (Personal)          178 g   \n",
              "2    Pizza Hut  All Meals          Double Cheese (Personal)          143 g   \n",
              "3    Pizza Hut  All Meals  Double Paneer Supreme (Personal)        174.5 g   \n",
              "4    Pizza Hut  All Meals          Farmer`s Pick (Personal)          177 g   \n",
              "..         ...        ...                               ...            ...   \n",
              "525    Dominos  All Meals                    CHICKEN WINGS           174.0   \n",
              "526    Dominos  All Meals            CRISPY CHICKEN STRIPS           156.0   \n",
              "527    Dominos  All Meals             ZINGY PARCEL CHICKEN           210.0   \n",
              "528    Dominos  All Meals          TACO MEXICANA - CHICKEN            97.0   \n",
              "529    Dominos  All Meals        CALZONE POCKETS - CHICKEN           248.0   \n",
              "\n",
              "     Energy (kCal)  Carbohydrates (g)  Protein (g)  Fiber (g)  Sugar (g)  \\\n",
              "0           432.60              65.64        17.91       3.85        0.0   \n",
              "1           407.60              67.11        16.73       7.19        0.0   \n",
              "2           423.33              59.97        18.26       3.49        0.0   \n",
              "3           474.03              52.86        20.07       3.79        0.0   \n",
              "4           408.16              53.93        19.91       2.46        0.0   \n",
              "..             ...                ...          ...        ...        ...   \n",
              "525         352.90              24.50        35.30       5.76       10.4   \n",
              "526         461.20              51.30        26.70       5.16        3.6   \n",
              "527         667.50              17.30        19.20      16.92       10.6   \n",
              "528         322.60              34.20         9.30       5.40        3.9   \n",
              "529         582.90             101.00        18.60       5.04       12.2   \n",
              "\n",
              "     Total Fat (g)  Saturated Fat (g)  Trans Fat (g)  Cholesterol (mg)  \\\n",
              "0            10.93               5.14           0.16             16.19   \n",
              "1             8.03               3.24           0.11             66.80   \n",
              "2            12.27               5.23           0.18             19.75   \n",
              "3            20.26               9.25           0.33             71.72   \n",
              "4            12.53               4.90           0.14             48.09   \n",
              "..             ...                ...            ...               ...   \n",
              "525          12.60               4.80           0.19            308.70   \n",
              "526          13.90               4.30           0.17            713.07   \n",
              "527          31.30              14.10           0.56            541.49   \n",
              "528          16.50               4.50           0.18            564.30   \n",
              "529          11.60               4.20           0.17           1171.60   \n",
              "\n",
              "     Sodium (mg)  Hunger Level  Protein Level  \n",
              "0         499.72             2              0  \n",
              "1         818.00             2              0  \n",
              "2         638.22             2              0  \n",
              "3        1128.11             2              1  \n",
              "4         942.67             2              1  \n",
              "..           ...           ...            ...  \n",
              "525          NaN             2              1  \n",
              "526          NaN             2              1  \n",
              "527          NaN             3              0  \n",
              "528          NaN             2              0  \n",
              "529          NaN             3              1  \n",
              "\n",
              "[530 rows x 16 columns]"
            ],
            "text/html": [
              "\n",
              "  <div id=\"df-91ecec2f-eab7-49f3-a2f4-53be49220e5b\">\n",
              "    <div class=\"colab-df-container\">\n",
              "      <div>\n",
              "<style scoped>\n",
              "    .dataframe tbody tr th:only-of-type {\n",
              "        vertical-align: middle;\n",
              "    }\n",
              "\n",
              "    .dataframe tbody tr th {\n",
              "        vertical-align: top;\n",
              "    }\n",
              "\n",
              "    .dataframe thead th {\n",
              "        text-align: right;\n",
              "    }\n",
              "</style>\n",
              "<table border=\"1\" class=\"dataframe\">\n",
              "  <thead>\n",
              "    <tr style=\"text-align: right;\">\n",
              "      <th></th>\n",
              "      <th>Company</th>\n",
              "      <th>Category</th>\n",
              "      <th>Product</th>\n",
              "      <th>Per Serve Size</th>\n",
              "      <th>Energy (kCal)</th>\n",
              "      <th>Carbohydrates (g)</th>\n",
              "      <th>Protein (g)</th>\n",
              "      <th>Fiber (g)</th>\n",
              "      <th>Sugar (g)</th>\n",
              "      <th>Total Fat (g)</th>\n",
              "      <th>Saturated Fat (g)</th>\n",
              "      <th>Trans Fat (g)</th>\n",
              "      <th>Cholesterol (mg)</th>\n",
              "      <th>Sodium (mg)</th>\n",
              "      <th>Hunger Level</th>\n",
              "      <th>Protein Level</th>\n",
              "    </tr>\n",
              "  </thead>\n",
              "  <tbody>\n",
              "    <tr>\n",
              "      <th>0</th>\n",
              "      <td>Pizza Hut</td>\n",
              "      <td>All Meals</td>\n",
              "      <td>Corn n Cheese (Personal)</td>\n",
              "      <td>143.5 g</td>\n",
              "      <td>432.60</td>\n",
              "      <td>65.64</td>\n",
              "      <td>17.91</td>\n",
              "      <td>3.85</td>\n",
              "      <td>0.0</td>\n",
              "      <td>10.93</td>\n",
              "      <td>5.14</td>\n",
              "      <td>0.16</td>\n",
              "      <td>16.19</td>\n",
              "      <td>499.72</td>\n",
              "      <td>2</td>\n",
              "      <td>0</td>\n",
              "    </tr>\n",
              "    <tr>\n",
              "      <th>1</th>\n",
              "      <td>Pizza Hut</td>\n",
              "      <td>All Meals</td>\n",
              "      <td>Country Feast (Personal)</td>\n",
              "      <td>178 g</td>\n",
              "      <td>407.60</td>\n",
              "      <td>67.11</td>\n",
              "      <td>16.73</td>\n",
              "      <td>7.19</td>\n",
              "      <td>0.0</td>\n",
              "      <td>8.03</td>\n",
              "      <td>3.24</td>\n",
              "      <td>0.11</td>\n",
              "      <td>66.80</td>\n",
              "      <td>818.00</td>\n",
              "      <td>2</td>\n",
              "      <td>0</td>\n",
              "    </tr>\n",
              "    <tr>\n",
              "      <th>2</th>\n",
              "      <td>Pizza Hut</td>\n",
              "      <td>All Meals</td>\n",
              "      <td>Double Cheese (Personal)</td>\n",
              "      <td>143 g</td>\n",
              "      <td>423.33</td>\n",
              "      <td>59.97</td>\n",
              "      <td>18.26</td>\n",
              "      <td>3.49</td>\n",
              "      <td>0.0</td>\n",
              "      <td>12.27</td>\n",
              "      <td>5.23</td>\n",
              "      <td>0.18</td>\n",
              "      <td>19.75</td>\n",
              "      <td>638.22</td>\n",
              "      <td>2</td>\n",
              "      <td>0</td>\n",
              "    </tr>\n",
              "    <tr>\n",
              "      <th>3</th>\n",
              "      <td>Pizza Hut</td>\n",
              "      <td>All Meals</td>\n",
              "      <td>Double Paneer Supreme (Personal)</td>\n",
              "      <td>174.5 g</td>\n",
              "      <td>474.03</td>\n",
              "      <td>52.86</td>\n",
              "      <td>20.07</td>\n",
              "      <td>3.79</td>\n",
              "      <td>0.0</td>\n",
              "      <td>20.26</td>\n",
              "      <td>9.25</td>\n",
              "      <td>0.33</td>\n",
              "      <td>71.72</td>\n",
              "      <td>1128.11</td>\n",
              "      <td>2</td>\n",
              "      <td>1</td>\n",
              "    </tr>\n",
              "    <tr>\n",
              "      <th>4</th>\n",
              "      <td>Pizza Hut</td>\n",
              "      <td>All Meals</td>\n",
              "      <td>Farmer`s Pick (Personal)</td>\n",
              "      <td>177 g</td>\n",
              "      <td>408.16</td>\n",
              "      <td>53.93</td>\n",
              "      <td>19.91</td>\n",
              "      <td>2.46</td>\n",
              "      <td>0.0</td>\n",
              "      <td>12.53</td>\n",
              "      <td>4.90</td>\n",
              "      <td>0.14</td>\n",
              "      <td>48.09</td>\n",
              "      <td>942.67</td>\n",
              "      <td>2</td>\n",
              "      <td>1</td>\n",
              "    </tr>\n",
              "    <tr>\n",
              "      <th>...</th>\n",
              "      <td>...</td>\n",
              "      <td>...</td>\n",
              "      <td>...</td>\n",
              "      <td>...</td>\n",
              "      <td>...</td>\n",
              "      <td>...</td>\n",
              "      <td>...</td>\n",
              "      <td>...</td>\n",
              "      <td>...</td>\n",
              "      <td>...</td>\n",
              "      <td>...</td>\n",
              "      <td>...</td>\n",
              "      <td>...</td>\n",
              "      <td>...</td>\n",
              "      <td>...</td>\n",
              "      <td>...</td>\n",
              "    </tr>\n",
              "    <tr>\n",
              "      <th>525</th>\n",
              "      <td>Dominos</td>\n",
              "      <td>All Meals</td>\n",
              "      <td>CHICKEN WINGS</td>\n",
              "      <td>174.0</td>\n",
              "      <td>352.90</td>\n",
              "      <td>24.50</td>\n",
              "      <td>35.30</td>\n",
              "      <td>5.76</td>\n",
              "      <td>10.4</td>\n",
              "      <td>12.60</td>\n",
              "      <td>4.80</td>\n",
              "      <td>0.19</td>\n",
              "      <td>308.70</td>\n",
              "      <td>NaN</td>\n",
              "      <td>2</td>\n",
              "      <td>1</td>\n",
              "    </tr>\n",
              "    <tr>\n",
              "      <th>526</th>\n",
              "      <td>Dominos</td>\n",
              "      <td>All Meals</td>\n",
              "      <td>CRISPY CHICKEN STRIPS</td>\n",
              "      <td>156.0</td>\n",
              "      <td>461.20</td>\n",
              "      <td>51.30</td>\n",
              "      <td>26.70</td>\n",
              "      <td>5.16</td>\n",
              "      <td>3.6</td>\n",
              "      <td>13.90</td>\n",
              "      <td>4.30</td>\n",
              "      <td>0.17</td>\n",
              "      <td>713.07</td>\n",
              "      <td>NaN</td>\n",
              "      <td>2</td>\n",
              "      <td>1</td>\n",
              "    </tr>\n",
              "    <tr>\n",
              "      <th>527</th>\n",
              "      <td>Dominos</td>\n",
              "      <td>All Meals</td>\n",
              "      <td>ZINGY PARCEL CHICKEN</td>\n",
              "      <td>210.0</td>\n",
              "      <td>667.50</td>\n",
              "      <td>17.30</td>\n",
              "      <td>19.20</td>\n",
              "      <td>16.92</td>\n",
              "      <td>10.6</td>\n",
              "      <td>31.30</td>\n",
              "      <td>14.10</td>\n",
              "      <td>0.56</td>\n",
              "      <td>541.49</td>\n",
              "      <td>NaN</td>\n",
              "      <td>3</td>\n",
              "      <td>0</td>\n",
              "    </tr>\n",
              "    <tr>\n",
              "      <th>528</th>\n",
              "      <td>Dominos</td>\n",
              "      <td>All Meals</td>\n",
              "      <td>TACO MEXICANA - CHICKEN</td>\n",
              "      <td>97.0</td>\n",
              "      <td>322.60</td>\n",
              "      <td>34.20</td>\n",
              "      <td>9.30</td>\n",
              "      <td>5.40</td>\n",
              "      <td>3.9</td>\n",
              "      <td>16.50</td>\n",
              "      <td>4.50</td>\n",
              "      <td>0.18</td>\n",
              "      <td>564.30</td>\n",
              "      <td>NaN</td>\n",
              "      <td>2</td>\n",
              "      <td>0</td>\n",
              "    </tr>\n",
              "    <tr>\n",
              "      <th>529</th>\n",
              "      <td>Dominos</td>\n",
              "      <td>All Meals</td>\n",
              "      <td>CALZONE POCKETS - CHICKEN</td>\n",
              "      <td>248.0</td>\n",
              "      <td>582.90</td>\n",
              "      <td>101.00</td>\n",
              "      <td>18.60</td>\n",
              "      <td>5.04</td>\n",
              "      <td>12.2</td>\n",
              "      <td>11.60</td>\n",
              "      <td>4.20</td>\n",
              "      <td>0.17</td>\n",
              "      <td>1171.60</td>\n",
              "      <td>NaN</td>\n",
              "      <td>3</td>\n",
              "      <td>1</td>\n",
              "    </tr>\n",
              "  </tbody>\n",
              "</table>\n",
              "<p>530 rows × 16 columns</p>\n",
              "</div>\n",
              "      <button class=\"colab-df-convert\" onclick=\"convertToInteractive('df-91ecec2f-eab7-49f3-a2f4-53be49220e5b')\"\n",
              "              title=\"Convert this dataframe to an interactive table.\"\n",
              "              style=\"display:none;\">\n",
              "        \n",
              "  <svg xmlns=\"http://www.w3.org/2000/svg\" height=\"24px\"viewBox=\"0 0 24 24\"\n",
              "       width=\"24px\">\n",
              "    <path d=\"M0 0h24v24H0V0z\" fill=\"none\"/>\n",
              "    <path d=\"M18.56 5.44l.94 2.06.94-2.06 2.06-.94-2.06-.94-.94-2.06-.94 2.06-2.06.94zm-11 1L8.5 8.5l.94-2.06 2.06-.94-2.06-.94L8.5 2.5l-.94 2.06-2.06.94zm10 10l.94 2.06.94-2.06 2.06-.94-2.06-.94-.94-2.06-.94 2.06-2.06.94z\"/><path d=\"M17.41 7.96l-1.37-1.37c-.4-.4-.92-.59-1.43-.59-.52 0-1.04.2-1.43.59L10.3 9.45l-7.72 7.72c-.78.78-.78 2.05 0 2.83L4 21.41c.39.39.9.59 1.41.59.51 0 1.02-.2 1.41-.59l7.78-7.78 2.81-2.81c.8-.78.8-2.07 0-2.86zM5.41 20L4 18.59l7.72-7.72 1.47 1.35L5.41 20z\"/>\n",
              "  </svg>\n",
              "      </button>\n",
              "      \n",
              "  <style>\n",
              "    .colab-df-container {\n",
              "      display:flex;\n",
              "      flex-wrap:wrap;\n",
              "      gap: 12px;\n",
              "    }\n",
              "\n",
              "    .colab-df-convert {\n",
              "      background-color: #E8F0FE;\n",
              "      border: none;\n",
              "      border-radius: 50%;\n",
              "      cursor: pointer;\n",
              "      display: none;\n",
              "      fill: #1967D2;\n",
              "      height: 32px;\n",
              "      padding: 0 0 0 0;\n",
              "      width: 32px;\n",
              "    }\n",
              "\n",
              "    .colab-df-convert:hover {\n",
              "      background-color: #E2EBFA;\n",
              "      box-shadow: 0px 1px 2px rgba(60, 64, 67, 0.3), 0px 1px 3px 1px rgba(60, 64, 67, 0.15);\n",
              "      fill: #174EA6;\n",
              "    }\n",
              "\n",
              "    [theme=dark] .colab-df-convert {\n",
              "      background-color: #3B4455;\n",
              "      fill: #D2E3FC;\n",
              "    }\n",
              "\n",
              "    [theme=dark] .colab-df-convert:hover {\n",
              "      background-color: #434B5C;\n",
              "      box-shadow: 0px 1px 3px 1px rgba(0, 0, 0, 0.15);\n",
              "      filter: drop-shadow(0px 1px 2px rgba(0, 0, 0, 0.3));\n",
              "      fill: #FFFFFF;\n",
              "    }\n",
              "  </style>\n",
              "\n",
              "      <script>\n",
              "        const buttonEl =\n",
              "          document.querySelector('#df-91ecec2f-eab7-49f3-a2f4-53be49220e5b button.colab-df-convert');\n",
              "        buttonEl.style.display =\n",
              "          google.colab.kernel.accessAllowed ? 'block' : 'none';\n",
              "\n",
              "        async function convertToInteractive(key) {\n",
              "          const element = document.querySelector('#df-91ecec2f-eab7-49f3-a2f4-53be49220e5b');\n",
              "          const dataTable =\n",
              "            await google.colab.kernel.invokeFunction('convertToInteractive',\n",
              "                                                     [key], {});\n",
              "          if (!dataTable) return;\n",
              "\n",
              "          const docLinkHtml = 'Like what you see? Visit the ' +\n",
              "            '<a target=\"_blank\" href=https://colab.research.google.com/notebooks/data_table.ipynb>data table notebook</a>'\n",
              "            + ' to learn more about interactive tables.';\n",
              "          element.innerHTML = '';\n",
              "          dataTable['output_type'] = 'display_data';\n",
              "          await google.colab.output.renderOutput(dataTable, element);\n",
              "          const docLink = document.createElement('div');\n",
              "          docLink.innerHTML = docLinkHtml;\n",
              "          element.appendChild(docLink);\n",
              "        }\n",
              "      </script>\n",
              "    </div>\n",
              "  </div>\n",
              "  "
            ]
          },
          "metadata": {},
          "execution_count": 24
        }
      ],
      "source": [
        "df"
      ]
    },
    {
      "cell_type": "code",
      "execution_count": 25,
      "metadata": {
        "colab": {
          "base_uri": "https://localhost:8080/"
        },
        "id": "YhSjW3m59Odn",
        "outputId": "a54b90b1-5ffd-41f7-ef56-4de8a258d49b"
      },
      "outputs": [
        {
          "output_type": "execute_result",
          "data": {
            "text/plain": [
              "0      2\n",
              "1      2\n",
              "2      2\n",
              "3      2\n",
              "4      2\n",
              "      ..\n",
              "525    2\n",
              "526    2\n",
              "527    3\n",
              "528    2\n",
              "529    3\n",
              "Name: Hunger Level, Length: 530, dtype: int64"
            ]
          },
          "metadata": {},
          "execution_count": 25
        }
      ],
      "source": [
        "df['Hunger Level']"
      ]
    },
    {
      "cell_type": "code",
      "execution_count": 26,
      "metadata": {
        "colab": {
          "base_uri": "https://localhost:8080/"
        },
        "id": "DVM4lM-u9Odn",
        "outputId": "ca32bbaf-5a1e-4fea-dd82-04a710eb48cc"
      },
      "outputs": [
        {
          "output_type": "stream",
          "name": "stdout",
          "text": [
            "                    Product\n",
            "0  Corn n Cheese (Personal)\n"
          ]
        }
      ],
      "source": [
        "print(df.iloc[[0],[2]])"
      ]
    },
    {
      "cell_type": "code",
      "execution_count": 27,
      "metadata": {
        "colab": {
          "base_uri": "https://localhost:8080/"
        },
        "id": "BJHXxOyf9Odn",
        "outputId": "e79e0a73-458e-43ba-dc4d-04b6c623e4e2"
      },
      "outputs": [
        {
          "output_type": "execute_result",
          "data": {
            "text/plain": [
              "530"
            ]
          },
          "metadata": {},
          "execution_count": 27
        }
      ],
      "source": [
        "df.shape[0]"
      ]
    },
    {
      "cell_type": "code",
      "execution_count": 34,
      "metadata": {
        "colab": {
          "base_uri": "https://localhost:8080/"
        },
        "id": "1oOdZKjH9Odn",
        "outputId": "e1ae15df-cdd6-4700-c9ef-148e8d236f38"
      },
      "outputs": [
        {
          "output_type": "stream",
          "name": "stdout",
          "text": [
            "Enter Restaurant Name:burger king\n",
            "Enter Hunger Level (1 to 3):2\n",
            "Do you want to eat a high Protein Meal (y to n):y\n",
            "burger king \n",
            "Hunger Level: 2 \n",
            "High Protein: y \n",
            "\n",
            "\n",
            "Chicken Tandoori Grill\n",
            "Xtra Long chicken\n",
            "Fiery chicken (South)\n",
            "Fiery Chicken (North & West)\n",
            "Chicken fries 9 pcs\n",
            "Chicken wings Fried ( 4Pcs)\n",
            "Chicken wings Grilled ( 4Pcs)\n"
          ]
        }
      ],
      "source": [
        "a=input(\"Enter Restaurant Name:\")\n",
        "b=int(input(\"Enter Hunger Level (1 to 3):\"))\n",
        "c=(input(\"Do you want to eat a high Protein Meal (y to n):\"))\n",
        "print(a,\"\\nHunger Level:\",b,\"\\nHigh Protein:\",c,\"\\n\\n\")\n",
        "t=df['Company']\n",
        "p=df['Product']\n",
        "for i in range(df.shape[0]):\n",
        "    if t[i].lower()==a.lower() and b==3 and y[i]>=3 and z[i]>=1 and c==\"y\":\n",
        "        print(p[i])\n",
        "    elif t[i].lower()==a.lower() and b==3 and y[i]>=3 and z[i]>=0 and c==\"n\":\n",
        "        print(p[i])\n",
        "    elif t[i].lower()==a.lower() and y[i]==b and z[i]>=0 and c==\"n\":\n",
        "        print(p[i])\n",
        "    elif t[i].lower()==a.lower() and y[i]==b and z[i]>=1 and c==\"y\":\n",
        "        print(p[i])"
      ]
    },
    {
      "cell_type": "code",
      "execution_count": 28,
      "metadata": {
        "id": "rbC0JdsK9Odn"
      },
      "outputs": [],
      "source": []
    }
  ],
  "metadata": {
    "kernelspec": {
      "display_name": "Python 3",
      "language": "python",
      "name": "python3"
    },
    "language_info": {
      "codemirror_mode": {
        "name": "ipython",
        "version": 3
      },
      "file_extension": ".py",
      "mimetype": "text/x-python",
      "name": "python",
      "nbconvert_exporter": "python",
      "pygments_lexer": "ipython3",
      "version": "3.11.2"
    },
    "orig_nbformat": 4,
    "vscode": {
      "interpreter": {
        "hash": "fb4569285eef3a3450cb62085a5b1e0da4bce0af555edc33dcf29baf3acc1368"
      }
    },
    "colab": {
      "provenance": [],
      "include_colab_link": true
    }
  },
  "nbformat": 4,
  "nbformat_minor": 0
}